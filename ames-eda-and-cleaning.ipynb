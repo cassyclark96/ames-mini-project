{
 "cells": [
  {
   "cell_type": "markdown",
   "metadata": {},
   "source": [
    "# Ames Modeling Project"
   ]
  },
  {
   "cell_type": "markdown",
   "metadata": {},
   "source": [
    "## Question to answer:\n",
    "- Predicting the price of a house at sale in Ames, Iowa based on house features"
   ]
  },
  {
   "cell_type": "code",
   "execution_count": 1,
   "metadata": {},
   "outputs": [],
   "source": [
    "#importing important libraries\n",
    "import pandas as pd\n",
    "import numpy as np\n",
    "import seaborn as sns\n",
    "import matplotlib.pyplot as plt\n",
    "from sklearn.linear_model import LinearRegression, Lasso, Ridge, ElasticNet, LogisticRegression\n",
    "from sklearn.metrics import mean_absolute_error, mean_squared_error, mean_squared_log_error, r2_score\n",
    "from sklearn.preprocessing import OneHotEncoder, PolynomialFeatures, StandardScaler\n",
    "from sklearn.model_selection import cross_val_score, GridSearchCV, train_test_split\n",
    "from sklearn.pipeline import Pipeline\n",
    "from sklearn.neighbors import KNeighborsClassifier\n",
    "\n",
    "%matplotlib inline"
   ]
  },
  {
   "cell_type": "code",
   "execution_count": 2,
   "metadata": {},
   "outputs": [],
   "source": [
    "#load in data set\n",
    "train = pd.read_csv('./datasets/train.csv')"
   ]
  },
  {
   "cell_type": "markdown",
   "metadata": {},
   "source": [
    "## Begin EDA"
   ]
  },
  {
   "cell_type": "code",
   "execution_count": 3,
   "metadata": {},
   "outputs": [
    {
     "data": {
      "text/plain": [
       "(2051, 81)"
      ]
     },
     "execution_count": 3,
     "metadata": {},
     "output_type": "execute_result"
    }
   ],
   "source": [
    "train.shape"
   ]
  },
  {
   "cell_type": "code",
   "execution_count": 4,
   "metadata": {},
   "outputs": [
    {
     "data": {
      "text/html": [
       "<div>\n",
       "<style scoped>\n",
       "    .dataframe tbody tr th:only-of-type {\n",
       "        vertical-align: middle;\n",
       "    }\n",
       "\n",
       "    .dataframe tbody tr th {\n",
       "        vertical-align: top;\n",
       "    }\n",
       "\n",
       "    .dataframe thead th {\n",
       "        text-align: right;\n",
       "    }\n",
       "</style>\n",
       "<table border=\"1\" class=\"dataframe\">\n",
       "  <thead>\n",
       "    <tr style=\"text-align: right;\">\n",
       "      <th></th>\n",
       "      <th>Id</th>\n",
       "      <th>PID</th>\n",
       "      <th>MS SubClass</th>\n",
       "      <th>MS Zoning</th>\n",
       "      <th>Lot Frontage</th>\n",
       "      <th>Lot Area</th>\n",
       "      <th>Street</th>\n",
       "      <th>Alley</th>\n",
       "      <th>Lot Shape</th>\n",
       "      <th>Land Contour</th>\n",
       "      <th>...</th>\n",
       "      <th>Screen Porch</th>\n",
       "      <th>Pool Area</th>\n",
       "      <th>Pool QC</th>\n",
       "      <th>Fence</th>\n",
       "      <th>Misc Feature</th>\n",
       "      <th>Misc Val</th>\n",
       "      <th>Mo Sold</th>\n",
       "      <th>Yr Sold</th>\n",
       "      <th>Sale Type</th>\n",
       "      <th>SalePrice</th>\n",
       "    </tr>\n",
       "  </thead>\n",
       "  <tbody>\n",
       "    <tr>\n",
       "      <th>0</th>\n",
       "      <td>109</td>\n",
       "      <td>533352170</td>\n",
       "      <td>60</td>\n",
       "      <td>RL</td>\n",
       "      <td>NaN</td>\n",
       "      <td>13517</td>\n",
       "      <td>Pave</td>\n",
       "      <td>NaN</td>\n",
       "      <td>IR1</td>\n",
       "      <td>Lvl</td>\n",
       "      <td>...</td>\n",
       "      <td>0</td>\n",
       "      <td>0</td>\n",
       "      <td>NaN</td>\n",
       "      <td>NaN</td>\n",
       "      <td>NaN</td>\n",
       "      <td>0</td>\n",
       "      <td>3</td>\n",
       "      <td>2010</td>\n",
       "      <td>WD</td>\n",
       "      <td>130500</td>\n",
       "    </tr>\n",
       "    <tr>\n",
       "      <th>1</th>\n",
       "      <td>544</td>\n",
       "      <td>531379050</td>\n",
       "      <td>60</td>\n",
       "      <td>RL</td>\n",
       "      <td>43.0</td>\n",
       "      <td>11492</td>\n",
       "      <td>Pave</td>\n",
       "      <td>NaN</td>\n",
       "      <td>IR1</td>\n",
       "      <td>Lvl</td>\n",
       "      <td>...</td>\n",
       "      <td>0</td>\n",
       "      <td>0</td>\n",
       "      <td>NaN</td>\n",
       "      <td>NaN</td>\n",
       "      <td>NaN</td>\n",
       "      <td>0</td>\n",
       "      <td>4</td>\n",
       "      <td>2009</td>\n",
       "      <td>WD</td>\n",
       "      <td>220000</td>\n",
       "    </tr>\n",
       "    <tr>\n",
       "      <th>2</th>\n",
       "      <td>153</td>\n",
       "      <td>535304180</td>\n",
       "      <td>20</td>\n",
       "      <td>RL</td>\n",
       "      <td>68.0</td>\n",
       "      <td>7922</td>\n",
       "      <td>Pave</td>\n",
       "      <td>NaN</td>\n",
       "      <td>Reg</td>\n",
       "      <td>Lvl</td>\n",
       "      <td>...</td>\n",
       "      <td>0</td>\n",
       "      <td>0</td>\n",
       "      <td>NaN</td>\n",
       "      <td>NaN</td>\n",
       "      <td>NaN</td>\n",
       "      <td>0</td>\n",
       "      <td>1</td>\n",
       "      <td>2010</td>\n",
       "      <td>WD</td>\n",
       "      <td>109000</td>\n",
       "    </tr>\n",
       "    <tr>\n",
       "      <th>3</th>\n",
       "      <td>318</td>\n",
       "      <td>916386060</td>\n",
       "      <td>60</td>\n",
       "      <td>RL</td>\n",
       "      <td>73.0</td>\n",
       "      <td>9802</td>\n",
       "      <td>Pave</td>\n",
       "      <td>NaN</td>\n",
       "      <td>Reg</td>\n",
       "      <td>Lvl</td>\n",
       "      <td>...</td>\n",
       "      <td>0</td>\n",
       "      <td>0</td>\n",
       "      <td>NaN</td>\n",
       "      <td>NaN</td>\n",
       "      <td>NaN</td>\n",
       "      <td>0</td>\n",
       "      <td>4</td>\n",
       "      <td>2010</td>\n",
       "      <td>WD</td>\n",
       "      <td>174000</td>\n",
       "    </tr>\n",
       "    <tr>\n",
       "      <th>4</th>\n",
       "      <td>255</td>\n",
       "      <td>906425045</td>\n",
       "      <td>50</td>\n",
       "      <td>RL</td>\n",
       "      <td>82.0</td>\n",
       "      <td>14235</td>\n",
       "      <td>Pave</td>\n",
       "      <td>NaN</td>\n",
       "      <td>IR1</td>\n",
       "      <td>Lvl</td>\n",
       "      <td>...</td>\n",
       "      <td>0</td>\n",
       "      <td>0</td>\n",
       "      <td>NaN</td>\n",
       "      <td>NaN</td>\n",
       "      <td>NaN</td>\n",
       "      <td>0</td>\n",
       "      <td>3</td>\n",
       "      <td>2010</td>\n",
       "      <td>WD</td>\n",
       "      <td>138500</td>\n",
       "    </tr>\n",
       "  </tbody>\n",
       "</table>\n",
       "<p>5 rows × 81 columns</p>\n",
       "</div>"
      ],
      "text/plain": [
       "    Id        PID  MS SubClass MS Zoning  Lot Frontage  Lot Area Street Alley  \\\n",
       "0  109  533352170           60        RL           NaN     13517   Pave   NaN   \n",
       "1  544  531379050           60        RL          43.0     11492   Pave   NaN   \n",
       "2  153  535304180           20        RL          68.0      7922   Pave   NaN   \n",
       "3  318  916386060           60        RL          73.0      9802   Pave   NaN   \n",
       "4  255  906425045           50        RL          82.0     14235   Pave   NaN   \n",
       "\n",
       "  Lot Shape Land Contour  ... Screen Porch Pool Area Pool QC Fence  \\\n",
       "0       IR1          Lvl  ...            0         0     NaN   NaN   \n",
       "1       IR1          Lvl  ...            0         0     NaN   NaN   \n",
       "2       Reg          Lvl  ...            0         0     NaN   NaN   \n",
       "3       Reg          Lvl  ...            0         0     NaN   NaN   \n",
       "4       IR1          Lvl  ...            0         0     NaN   NaN   \n",
       "\n",
       "  Misc Feature Misc Val Mo Sold Yr Sold  Sale Type  SalePrice  \n",
       "0          NaN        0       3    2010        WD      130500  \n",
       "1          NaN        0       4    2009        WD      220000  \n",
       "2          NaN        0       1    2010        WD      109000  \n",
       "3          NaN        0       4    2010        WD      174000  \n",
       "4          NaN        0       3    2010        WD      138500  \n",
       "\n",
       "[5 rows x 81 columns]"
      ]
     },
     "execution_count": 4,
     "metadata": {},
     "output_type": "execute_result"
    }
   ],
   "source": [
    "train.head()"
   ]
  },
  {
   "cell_type": "code",
   "execution_count": 5,
   "metadata": {},
   "outputs": [
    {
     "data": {
      "text/plain": [
       "Index(['Id', 'PID', 'MS SubClass', 'MS Zoning', 'Lot Frontage', 'Lot Area',\n",
       "       'Street', 'Alley', 'Lot Shape', 'Land Contour', 'Utilities',\n",
       "       'Lot Config', 'Land Slope', 'Neighborhood', 'Condition 1',\n",
       "       'Condition 2', 'Bldg Type', 'House Style', 'Overall Qual',\n",
       "       'Overall Cond', 'Year Built', 'Year Remod/Add', 'Roof Style',\n",
       "       'Roof Matl', 'Exterior 1st', 'Exterior 2nd', 'Mas Vnr Type',\n",
       "       'Mas Vnr Area', 'Exter Qual', 'Exter Cond', 'Foundation', 'Bsmt Qual',\n",
       "       'Bsmt Cond', 'Bsmt Exposure', 'BsmtFin Type 1', 'BsmtFin SF 1',\n",
       "       'BsmtFin Type 2', 'BsmtFin SF 2', 'Bsmt Unf SF', 'Total Bsmt SF',\n",
       "       'Heating', 'Heating QC', 'Central Air', 'Electrical', '1st Flr SF',\n",
       "       '2nd Flr SF', 'Low Qual Fin SF', 'Gr Liv Area', 'Bsmt Full Bath',\n",
       "       'Bsmt Half Bath', 'Full Bath', 'Half Bath', 'Bedroom AbvGr',\n",
       "       'Kitchen AbvGr', 'Kitchen Qual', 'TotRms AbvGrd', 'Functional',\n",
       "       'Fireplaces', 'Fireplace Qu', 'Garage Type', 'Garage Yr Blt',\n",
       "       'Garage Finish', 'Garage Cars', 'Garage Area', 'Garage Qual',\n",
       "       'Garage Cond', 'Paved Drive', 'Wood Deck SF', 'Open Porch SF',\n",
       "       'Enclosed Porch', '3Ssn Porch', 'Screen Porch', 'Pool Area', 'Pool QC',\n",
       "       'Fence', 'Misc Feature', 'Misc Val', 'Mo Sold', 'Yr Sold', 'Sale Type',\n",
       "       'SalePrice'],\n",
       "      dtype='object')"
      ]
     },
     "execution_count": 5,
     "metadata": {},
     "output_type": "execute_result"
    }
   ],
   "source": [
    "train.columns"
   ]
  },
  {
   "cell_type": "code",
   "execution_count": 6,
   "metadata": {},
   "outputs": [],
   "source": [
    "train.columns = train.columns.str.replace(' ', '_')\n",
    "#using code from our class ames lesson to get rid of spacing in column names "
   ]
  },
  {
   "cell_type": "code",
   "execution_count": 7,
   "metadata": {},
   "outputs": [],
   "source": [
    "train.columns = train.columns.str.lower() #decided to go ahead and lower names as well"
   ]
  },
  {
   "cell_type": "code",
   "execution_count": 8,
   "metadata": {},
   "outputs": [
    {
     "data": {
      "text/html": [
       "<div>\n",
       "<style scoped>\n",
       "    .dataframe tbody tr th:only-of-type {\n",
       "        vertical-align: middle;\n",
       "    }\n",
       "\n",
       "    .dataframe tbody tr th {\n",
       "        vertical-align: top;\n",
       "    }\n",
       "\n",
       "    .dataframe thead th {\n",
       "        text-align: right;\n",
       "    }\n",
       "</style>\n",
       "<table border=\"1\" class=\"dataframe\">\n",
       "  <thead>\n",
       "    <tr style=\"text-align: right;\">\n",
       "      <th></th>\n",
       "      <th>count</th>\n",
       "      <th>mean</th>\n",
       "      <th>std</th>\n",
       "      <th>min</th>\n",
       "      <th>25%</th>\n",
       "      <th>50%</th>\n",
       "      <th>75%</th>\n",
       "      <th>max</th>\n",
       "    </tr>\n",
       "  </thead>\n",
       "  <tbody>\n",
       "    <tr>\n",
       "      <th>id</th>\n",
       "      <td>2051.0</td>\n",
       "      <td>1.474034e+03</td>\n",
       "      <td>8.439808e+02</td>\n",
       "      <td>1.0</td>\n",
       "      <td>753.5</td>\n",
       "      <td>1486.0</td>\n",
       "      <td>2.198000e+03</td>\n",
       "      <td>2930.0</td>\n",
       "    </tr>\n",
       "    <tr>\n",
       "      <th>pid</th>\n",
       "      <td>2051.0</td>\n",
       "      <td>7.135900e+08</td>\n",
       "      <td>1.886918e+08</td>\n",
       "      <td>526301100.0</td>\n",
       "      <td>528458140.0</td>\n",
       "      <td>535453200.0</td>\n",
       "      <td>9.071801e+08</td>\n",
       "      <td>924152030.0</td>\n",
       "    </tr>\n",
       "    <tr>\n",
       "      <th>ms_subclass</th>\n",
       "      <td>2051.0</td>\n",
       "      <td>5.700878e+01</td>\n",
       "      <td>4.282422e+01</td>\n",
       "      <td>20.0</td>\n",
       "      <td>20.0</td>\n",
       "      <td>50.0</td>\n",
       "      <td>7.000000e+01</td>\n",
       "      <td>190.0</td>\n",
       "    </tr>\n",
       "    <tr>\n",
       "      <th>lot_frontage</th>\n",
       "      <td>1721.0</td>\n",
       "      <td>6.905520e+01</td>\n",
       "      <td>2.326065e+01</td>\n",
       "      <td>21.0</td>\n",
       "      <td>58.0</td>\n",
       "      <td>68.0</td>\n",
       "      <td>8.000000e+01</td>\n",
       "      <td>313.0</td>\n",
       "    </tr>\n",
       "    <tr>\n",
       "      <th>lot_area</th>\n",
       "      <td>2051.0</td>\n",
       "      <td>1.006521e+04</td>\n",
       "      <td>6.742489e+03</td>\n",
       "      <td>1300.0</td>\n",
       "      <td>7500.0</td>\n",
       "      <td>9430.0</td>\n",
       "      <td>1.151350e+04</td>\n",
       "      <td>159000.0</td>\n",
       "    </tr>\n",
       "    <tr>\n",
       "      <th>overall_qual</th>\n",
       "      <td>2051.0</td>\n",
       "      <td>6.112140e+00</td>\n",
       "      <td>1.426271e+00</td>\n",
       "      <td>1.0</td>\n",
       "      <td>5.0</td>\n",
       "      <td>6.0</td>\n",
       "      <td>7.000000e+00</td>\n",
       "      <td>10.0</td>\n",
       "    </tr>\n",
       "    <tr>\n",
       "      <th>overall_cond</th>\n",
       "      <td>2051.0</td>\n",
       "      <td>5.562165e+00</td>\n",
       "      <td>1.104497e+00</td>\n",
       "      <td>1.0</td>\n",
       "      <td>5.0</td>\n",
       "      <td>5.0</td>\n",
       "      <td>6.000000e+00</td>\n",
       "      <td>9.0</td>\n",
       "    </tr>\n",
       "    <tr>\n",
       "      <th>year_built</th>\n",
       "      <td>2051.0</td>\n",
       "      <td>1.971709e+03</td>\n",
       "      <td>3.017789e+01</td>\n",
       "      <td>1872.0</td>\n",
       "      <td>1953.5</td>\n",
       "      <td>1974.0</td>\n",
       "      <td>2.001000e+03</td>\n",
       "      <td>2010.0</td>\n",
       "    </tr>\n",
       "    <tr>\n",
       "      <th>year_remod/add</th>\n",
       "      <td>2051.0</td>\n",
       "      <td>1.984190e+03</td>\n",
       "      <td>2.103625e+01</td>\n",
       "      <td>1950.0</td>\n",
       "      <td>1964.5</td>\n",
       "      <td>1993.0</td>\n",
       "      <td>2.004000e+03</td>\n",
       "      <td>2010.0</td>\n",
       "    </tr>\n",
       "    <tr>\n",
       "      <th>mas_vnr_area</th>\n",
       "      <td>2029.0</td>\n",
       "      <td>9.969591e+01</td>\n",
       "      <td>1.749631e+02</td>\n",
       "      <td>0.0</td>\n",
       "      <td>0.0</td>\n",
       "      <td>0.0</td>\n",
       "      <td>1.610000e+02</td>\n",
       "      <td>1600.0</td>\n",
       "    </tr>\n",
       "    <tr>\n",
       "      <th>bsmtfin_sf_1</th>\n",
       "      <td>2050.0</td>\n",
       "      <td>4.423005e+02</td>\n",
       "      <td>4.612041e+02</td>\n",
       "      <td>0.0</td>\n",
       "      <td>0.0</td>\n",
       "      <td>368.0</td>\n",
       "      <td>7.337500e+02</td>\n",
       "      <td>5644.0</td>\n",
       "    </tr>\n",
       "    <tr>\n",
       "      <th>bsmtfin_sf_2</th>\n",
       "      <td>2050.0</td>\n",
       "      <td>4.795902e+01</td>\n",
       "      <td>1.650009e+02</td>\n",
       "      <td>0.0</td>\n",
       "      <td>0.0</td>\n",
       "      <td>0.0</td>\n",
       "      <td>0.000000e+00</td>\n",
       "      <td>1474.0</td>\n",
       "    </tr>\n",
       "    <tr>\n",
       "      <th>bsmt_unf_sf</th>\n",
       "      <td>2050.0</td>\n",
       "      <td>5.677283e+02</td>\n",
       "      <td>4.449548e+02</td>\n",
       "      <td>0.0</td>\n",
       "      <td>220.0</td>\n",
       "      <td>474.5</td>\n",
       "      <td>8.110000e+02</td>\n",
       "      <td>2336.0</td>\n",
       "    </tr>\n",
       "    <tr>\n",
       "      <th>total_bsmt_sf</th>\n",
       "      <td>2050.0</td>\n",
       "      <td>1.057988e+03</td>\n",
       "      <td>4.494107e+02</td>\n",
       "      <td>0.0</td>\n",
       "      <td>793.0</td>\n",
       "      <td>994.5</td>\n",
       "      <td>1.318750e+03</td>\n",
       "      <td>6110.0</td>\n",
       "    </tr>\n",
       "    <tr>\n",
       "      <th>1st_flr_sf</th>\n",
       "      <td>2051.0</td>\n",
       "      <td>1.164488e+03</td>\n",
       "      <td>3.964469e+02</td>\n",
       "      <td>334.0</td>\n",
       "      <td>879.5</td>\n",
       "      <td>1093.0</td>\n",
       "      <td>1.405000e+03</td>\n",
       "      <td>5095.0</td>\n",
       "    </tr>\n",
       "    <tr>\n",
       "      <th>2nd_flr_sf</th>\n",
       "      <td>2051.0</td>\n",
       "      <td>3.293291e+02</td>\n",
       "      <td>4.256710e+02</td>\n",
       "      <td>0.0</td>\n",
       "      <td>0.0</td>\n",
       "      <td>0.0</td>\n",
       "      <td>6.925000e+02</td>\n",
       "      <td>1862.0</td>\n",
       "    </tr>\n",
       "    <tr>\n",
       "      <th>low_qual_fin_sf</th>\n",
       "      <td>2051.0</td>\n",
       "      <td>5.512921e+00</td>\n",
       "      <td>5.106887e+01</td>\n",
       "      <td>0.0</td>\n",
       "      <td>0.0</td>\n",
       "      <td>0.0</td>\n",
       "      <td>0.000000e+00</td>\n",
       "      <td>1064.0</td>\n",
       "    </tr>\n",
       "    <tr>\n",
       "      <th>gr_liv_area</th>\n",
       "      <td>2051.0</td>\n",
       "      <td>1.499330e+03</td>\n",
       "      <td>5.004478e+02</td>\n",
       "      <td>334.0</td>\n",
       "      <td>1129.0</td>\n",
       "      <td>1444.0</td>\n",
       "      <td>1.728500e+03</td>\n",
       "      <td>5642.0</td>\n",
       "    </tr>\n",
       "    <tr>\n",
       "      <th>bsmt_full_bath</th>\n",
       "      <td>2049.0</td>\n",
       "      <td>4.275256e-01</td>\n",
       "      <td>5.226732e-01</td>\n",
       "      <td>0.0</td>\n",
       "      <td>0.0</td>\n",
       "      <td>0.0</td>\n",
       "      <td>1.000000e+00</td>\n",
       "      <td>3.0</td>\n",
       "    </tr>\n",
       "    <tr>\n",
       "      <th>bsmt_half_bath</th>\n",
       "      <td>2049.0</td>\n",
       "      <td>6.344558e-02</td>\n",
       "      <td>2.517052e-01</td>\n",
       "      <td>0.0</td>\n",
       "      <td>0.0</td>\n",
       "      <td>0.0</td>\n",
       "      <td>0.000000e+00</td>\n",
       "      <td>2.0</td>\n",
       "    </tr>\n",
       "    <tr>\n",
       "      <th>full_bath</th>\n",
       "      <td>2051.0</td>\n",
       "      <td>1.577279e+00</td>\n",
       "      <td>5.492794e-01</td>\n",
       "      <td>0.0</td>\n",
       "      <td>1.0</td>\n",
       "      <td>2.0</td>\n",
       "      <td>2.000000e+00</td>\n",
       "      <td>4.0</td>\n",
       "    </tr>\n",
       "    <tr>\n",
       "      <th>half_bath</th>\n",
       "      <td>2051.0</td>\n",
       "      <td>3.710385e-01</td>\n",
       "      <td>5.010427e-01</td>\n",
       "      <td>0.0</td>\n",
       "      <td>0.0</td>\n",
       "      <td>0.0</td>\n",
       "      <td>1.000000e+00</td>\n",
       "      <td>2.0</td>\n",
       "    </tr>\n",
       "    <tr>\n",
       "      <th>bedroom_abvgr</th>\n",
       "      <td>2051.0</td>\n",
       "      <td>2.843491e+00</td>\n",
       "      <td>8.266183e-01</td>\n",
       "      <td>0.0</td>\n",
       "      <td>2.0</td>\n",
       "      <td>3.0</td>\n",
       "      <td>3.000000e+00</td>\n",
       "      <td>8.0</td>\n",
       "    </tr>\n",
       "    <tr>\n",
       "      <th>kitchen_abvgr</th>\n",
       "      <td>2051.0</td>\n",
       "      <td>1.042906e+00</td>\n",
       "      <td>2.097900e-01</td>\n",
       "      <td>0.0</td>\n",
       "      <td>1.0</td>\n",
       "      <td>1.0</td>\n",
       "      <td>1.000000e+00</td>\n",
       "      <td>3.0</td>\n",
       "    </tr>\n",
       "    <tr>\n",
       "      <th>totrms_abvgrd</th>\n",
       "      <td>2051.0</td>\n",
       "      <td>6.435885e+00</td>\n",
       "      <td>1.560225e+00</td>\n",
       "      <td>2.0</td>\n",
       "      <td>5.0</td>\n",
       "      <td>6.0</td>\n",
       "      <td>7.000000e+00</td>\n",
       "      <td>15.0</td>\n",
       "    </tr>\n",
       "    <tr>\n",
       "      <th>fireplaces</th>\n",
       "      <td>2051.0</td>\n",
       "      <td>5.909313e-01</td>\n",
       "      <td>6.385163e-01</td>\n",
       "      <td>0.0</td>\n",
       "      <td>0.0</td>\n",
       "      <td>1.0</td>\n",
       "      <td>1.000000e+00</td>\n",
       "      <td>4.0</td>\n",
       "    </tr>\n",
       "    <tr>\n",
       "      <th>garage_yr_blt</th>\n",
       "      <td>1937.0</td>\n",
       "      <td>1.978708e+03</td>\n",
       "      <td>2.544109e+01</td>\n",
       "      <td>1895.0</td>\n",
       "      <td>1961.0</td>\n",
       "      <td>1980.0</td>\n",
       "      <td>2.002000e+03</td>\n",
       "      <td>2207.0</td>\n",
       "    </tr>\n",
       "    <tr>\n",
       "      <th>garage_cars</th>\n",
       "      <td>2050.0</td>\n",
       "      <td>1.776585e+00</td>\n",
       "      <td>7.645374e-01</td>\n",
       "      <td>0.0</td>\n",
       "      <td>1.0</td>\n",
       "      <td>2.0</td>\n",
       "      <td>2.000000e+00</td>\n",
       "      <td>5.0</td>\n",
       "    </tr>\n",
       "    <tr>\n",
       "      <th>garage_area</th>\n",
       "      <td>2050.0</td>\n",
       "      <td>4.736717e+02</td>\n",
       "      <td>2.159346e+02</td>\n",
       "      <td>0.0</td>\n",
       "      <td>319.0</td>\n",
       "      <td>480.0</td>\n",
       "      <td>5.760000e+02</td>\n",
       "      <td>1418.0</td>\n",
       "    </tr>\n",
       "    <tr>\n",
       "      <th>wood_deck_sf</th>\n",
       "      <td>2051.0</td>\n",
       "      <td>9.383374e+01</td>\n",
       "      <td>1.285494e+02</td>\n",
       "      <td>0.0</td>\n",
       "      <td>0.0</td>\n",
       "      <td>0.0</td>\n",
       "      <td>1.680000e+02</td>\n",
       "      <td>1424.0</td>\n",
       "    </tr>\n",
       "    <tr>\n",
       "      <th>open_porch_sf</th>\n",
       "      <td>2051.0</td>\n",
       "      <td>4.755680e+01</td>\n",
       "      <td>6.674724e+01</td>\n",
       "      <td>0.0</td>\n",
       "      <td>0.0</td>\n",
       "      <td>27.0</td>\n",
       "      <td>7.000000e+01</td>\n",
       "      <td>547.0</td>\n",
       "    </tr>\n",
       "    <tr>\n",
       "      <th>enclosed_porch</th>\n",
       "      <td>2051.0</td>\n",
       "      <td>2.257192e+01</td>\n",
       "      <td>5.984511e+01</td>\n",
       "      <td>0.0</td>\n",
       "      <td>0.0</td>\n",
       "      <td>0.0</td>\n",
       "      <td>0.000000e+00</td>\n",
       "      <td>432.0</td>\n",
       "    </tr>\n",
       "    <tr>\n",
       "      <th>3ssn_porch</th>\n",
       "      <td>2051.0</td>\n",
       "      <td>2.591419e+00</td>\n",
       "      <td>2.522961e+01</td>\n",
       "      <td>0.0</td>\n",
       "      <td>0.0</td>\n",
       "      <td>0.0</td>\n",
       "      <td>0.000000e+00</td>\n",
       "      <td>508.0</td>\n",
       "    </tr>\n",
       "    <tr>\n",
       "      <th>screen_porch</th>\n",
       "      <td>2051.0</td>\n",
       "      <td>1.651146e+01</td>\n",
       "      <td>5.737420e+01</td>\n",
       "      <td>0.0</td>\n",
       "      <td>0.0</td>\n",
       "      <td>0.0</td>\n",
       "      <td>0.000000e+00</td>\n",
       "      <td>490.0</td>\n",
       "    </tr>\n",
       "    <tr>\n",
       "      <th>pool_area</th>\n",
       "      <td>2051.0</td>\n",
       "      <td>2.397855e+00</td>\n",
       "      <td>3.778257e+01</td>\n",
       "      <td>0.0</td>\n",
       "      <td>0.0</td>\n",
       "      <td>0.0</td>\n",
       "      <td>0.000000e+00</td>\n",
       "      <td>800.0</td>\n",
       "    </tr>\n",
       "    <tr>\n",
       "      <th>misc_val</th>\n",
       "      <td>2051.0</td>\n",
       "      <td>5.157435e+01</td>\n",
       "      <td>5.733940e+02</td>\n",
       "      <td>0.0</td>\n",
       "      <td>0.0</td>\n",
       "      <td>0.0</td>\n",
       "      <td>0.000000e+00</td>\n",
       "      <td>17000.0</td>\n",
       "    </tr>\n",
       "    <tr>\n",
       "      <th>mo_sold</th>\n",
       "      <td>2051.0</td>\n",
       "      <td>6.219893e+00</td>\n",
       "      <td>2.744736e+00</td>\n",
       "      <td>1.0</td>\n",
       "      <td>4.0</td>\n",
       "      <td>6.0</td>\n",
       "      <td>8.000000e+00</td>\n",
       "      <td>12.0</td>\n",
       "    </tr>\n",
       "    <tr>\n",
       "      <th>yr_sold</th>\n",
       "      <td>2051.0</td>\n",
       "      <td>2.007776e+03</td>\n",
       "      <td>1.312014e+00</td>\n",
       "      <td>2006.0</td>\n",
       "      <td>2007.0</td>\n",
       "      <td>2008.0</td>\n",
       "      <td>2.009000e+03</td>\n",
       "      <td>2010.0</td>\n",
       "    </tr>\n",
       "    <tr>\n",
       "      <th>saleprice</th>\n",
       "      <td>2051.0</td>\n",
       "      <td>1.814697e+05</td>\n",
       "      <td>7.925866e+04</td>\n",
       "      <td>12789.0</td>\n",
       "      <td>129825.0</td>\n",
       "      <td>162500.0</td>\n",
       "      <td>2.140000e+05</td>\n",
       "      <td>611657.0</td>\n",
       "    </tr>\n",
       "  </tbody>\n",
       "</table>\n",
       "</div>"
      ],
      "text/plain": [
       "                  count          mean           std          min          25%  \\\n",
       "id               2051.0  1.474034e+03  8.439808e+02          1.0        753.5   \n",
       "pid              2051.0  7.135900e+08  1.886918e+08  526301100.0  528458140.0   \n",
       "ms_subclass      2051.0  5.700878e+01  4.282422e+01         20.0         20.0   \n",
       "lot_frontage     1721.0  6.905520e+01  2.326065e+01         21.0         58.0   \n",
       "lot_area         2051.0  1.006521e+04  6.742489e+03       1300.0       7500.0   \n",
       "overall_qual     2051.0  6.112140e+00  1.426271e+00          1.0          5.0   \n",
       "overall_cond     2051.0  5.562165e+00  1.104497e+00          1.0          5.0   \n",
       "year_built       2051.0  1.971709e+03  3.017789e+01       1872.0       1953.5   \n",
       "year_remod/add   2051.0  1.984190e+03  2.103625e+01       1950.0       1964.5   \n",
       "mas_vnr_area     2029.0  9.969591e+01  1.749631e+02          0.0          0.0   \n",
       "bsmtfin_sf_1     2050.0  4.423005e+02  4.612041e+02          0.0          0.0   \n",
       "bsmtfin_sf_2     2050.0  4.795902e+01  1.650009e+02          0.0          0.0   \n",
       "bsmt_unf_sf      2050.0  5.677283e+02  4.449548e+02          0.0        220.0   \n",
       "total_bsmt_sf    2050.0  1.057988e+03  4.494107e+02          0.0        793.0   \n",
       "1st_flr_sf       2051.0  1.164488e+03  3.964469e+02        334.0        879.5   \n",
       "2nd_flr_sf       2051.0  3.293291e+02  4.256710e+02          0.0          0.0   \n",
       "low_qual_fin_sf  2051.0  5.512921e+00  5.106887e+01          0.0          0.0   \n",
       "gr_liv_area      2051.0  1.499330e+03  5.004478e+02        334.0       1129.0   \n",
       "bsmt_full_bath   2049.0  4.275256e-01  5.226732e-01          0.0          0.0   \n",
       "bsmt_half_bath   2049.0  6.344558e-02  2.517052e-01          0.0          0.0   \n",
       "full_bath        2051.0  1.577279e+00  5.492794e-01          0.0          1.0   \n",
       "half_bath        2051.0  3.710385e-01  5.010427e-01          0.0          0.0   \n",
       "bedroom_abvgr    2051.0  2.843491e+00  8.266183e-01          0.0          2.0   \n",
       "kitchen_abvgr    2051.0  1.042906e+00  2.097900e-01          0.0          1.0   \n",
       "totrms_abvgrd    2051.0  6.435885e+00  1.560225e+00          2.0          5.0   \n",
       "fireplaces       2051.0  5.909313e-01  6.385163e-01          0.0          0.0   \n",
       "garage_yr_blt    1937.0  1.978708e+03  2.544109e+01       1895.0       1961.0   \n",
       "garage_cars      2050.0  1.776585e+00  7.645374e-01          0.0          1.0   \n",
       "garage_area      2050.0  4.736717e+02  2.159346e+02          0.0        319.0   \n",
       "wood_deck_sf     2051.0  9.383374e+01  1.285494e+02          0.0          0.0   \n",
       "open_porch_sf    2051.0  4.755680e+01  6.674724e+01          0.0          0.0   \n",
       "enclosed_porch   2051.0  2.257192e+01  5.984511e+01          0.0          0.0   \n",
       "3ssn_porch       2051.0  2.591419e+00  2.522961e+01          0.0          0.0   \n",
       "screen_porch     2051.0  1.651146e+01  5.737420e+01          0.0          0.0   \n",
       "pool_area        2051.0  2.397855e+00  3.778257e+01          0.0          0.0   \n",
       "misc_val         2051.0  5.157435e+01  5.733940e+02          0.0          0.0   \n",
       "mo_sold          2051.0  6.219893e+00  2.744736e+00          1.0          4.0   \n",
       "yr_sold          2051.0  2.007776e+03  1.312014e+00       2006.0       2007.0   \n",
       "saleprice        2051.0  1.814697e+05  7.925866e+04      12789.0     129825.0   \n",
       "\n",
       "                         50%           75%          max  \n",
       "id                    1486.0  2.198000e+03       2930.0  \n",
       "pid              535453200.0  9.071801e+08  924152030.0  \n",
       "ms_subclass             50.0  7.000000e+01        190.0  \n",
       "lot_frontage            68.0  8.000000e+01        313.0  \n",
       "lot_area              9430.0  1.151350e+04     159000.0  \n",
       "overall_qual             6.0  7.000000e+00         10.0  \n",
       "overall_cond             5.0  6.000000e+00          9.0  \n",
       "year_built            1974.0  2.001000e+03       2010.0  \n",
       "year_remod/add        1993.0  2.004000e+03       2010.0  \n",
       "mas_vnr_area             0.0  1.610000e+02       1600.0  \n",
       "bsmtfin_sf_1           368.0  7.337500e+02       5644.0  \n",
       "bsmtfin_sf_2             0.0  0.000000e+00       1474.0  \n",
       "bsmt_unf_sf            474.5  8.110000e+02       2336.0  \n",
       "total_bsmt_sf          994.5  1.318750e+03       6110.0  \n",
       "1st_flr_sf            1093.0  1.405000e+03       5095.0  \n",
       "2nd_flr_sf               0.0  6.925000e+02       1862.0  \n",
       "low_qual_fin_sf          0.0  0.000000e+00       1064.0  \n",
       "gr_liv_area           1444.0  1.728500e+03       5642.0  \n",
       "bsmt_full_bath           0.0  1.000000e+00          3.0  \n",
       "bsmt_half_bath           0.0  0.000000e+00          2.0  \n",
       "full_bath                2.0  2.000000e+00          4.0  \n",
       "half_bath                0.0  1.000000e+00          2.0  \n",
       "bedroom_abvgr            3.0  3.000000e+00          8.0  \n",
       "kitchen_abvgr            1.0  1.000000e+00          3.0  \n",
       "totrms_abvgrd            6.0  7.000000e+00         15.0  \n",
       "fireplaces               1.0  1.000000e+00          4.0  \n",
       "garage_yr_blt         1980.0  2.002000e+03       2207.0  \n",
       "garage_cars              2.0  2.000000e+00          5.0  \n",
       "garage_area            480.0  5.760000e+02       1418.0  \n",
       "wood_deck_sf             0.0  1.680000e+02       1424.0  \n",
       "open_porch_sf           27.0  7.000000e+01        547.0  \n",
       "enclosed_porch           0.0  0.000000e+00        432.0  \n",
       "3ssn_porch               0.0  0.000000e+00        508.0  \n",
       "screen_porch             0.0  0.000000e+00        490.0  \n",
       "pool_area                0.0  0.000000e+00        800.0  \n",
       "misc_val                 0.0  0.000000e+00      17000.0  \n",
       "mo_sold                  6.0  8.000000e+00         12.0  \n",
       "yr_sold               2008.0  2.009000e+03       2010.0  \n",
       "saleprice           162500.0  2.140000e+05     611657.0  "
      ]
     },
     "execution_count": 8,
     "metadata": {},
     "output_type": "execute_result"
    }
   ],
   "source": [
    "train.describe().T"
   ]
  },
  {
   "cell_type": "code",
   "execution_count": 9,
   "metadata": {},
   "outputs": [
    {
     "data": {
      "text/plain": [
       "lot_frontage       330\n",
       "alley             1911\n",
       "mas_vnr_type        22\n",
       "mas_vnr_area        22\n",
       "bsmt_qual           55\n",
       "bsmt_cond           55\n",
       "bsmt_exposure       58\n",
       "bsmtfin_type_1      55\n",
       "bsmtfin_sf_1         1\n",
       "bsmtfin_type_2      56\n",
       "bsmtfin_sf_2         1\n",
       "bsmt_unf_sf          1\n",
       "total_bsmt_sf        1\n",
       "bsmt_full_bath       2\n",
       "bsmt_half_bath       2\n",
       "fireplace_qu      1000\n",
       "garage_type        113\n",
       "garage_yr_blt      114\n",
       "garage_finish      114\n",
       "garage_cars          1\n",
       "garage_area          1\n",
       "garage_qual        114\n",
       "garage_cond        114\n",
       "pool_qc           2042\n",
       "fence             1651\n",
       "misc_feature      1986\n",
       "dtype: int64"
      ]
     },
     "execution_count": 9,
     "metadata": {},
     "output_type": "execute_result"
    }
   ],
   "source": [
    "train.isnull().sum()[train.isnull().sum() != 0]"
   ]
  },
  {
   "cell_type": "markdown",
   "metadata": {},
   "source": [
    "## Data Cleaning"
   ]
  },
  {
   "cell_type": "markdown",
   "metadata": {},
   "source": [
    "### Addressing ordinal missing values\n",
    "\n",
    "- We know from the data descriptions that null values for basements, garages, masonry, and fireplaces means that there is no basement, garage, masonry, or fireplace. So going to fill those null values with 0's\n",
    "- Going to be creating functions to to easily change any ordinal categorical data to numerical data based on specific ranking systems for values I believe to play a huge role in pricing that we can use on both training and testing data"
   ]
  },
  {
   "cell_type": "code",
   "execution_count": 10,
   "metadata": {},
   "outputs": [
    {
     "data": {
      "text/plain": [
       "lot_frontage       330\n",
       "alley             1911\n",
       "mas_vnr_type        22\n",
       "mas_vnr_area        22\n",
       "bsmt_qual           55\n",
       "bsmt_cond           55\n",
       "bsmt_exposure       58\n",
       "bsmtfin_type_1      55\n",
       "bsmtfin_sf_1         1\n",
       "bsmtfin_type_2      56\n",
       "bsmtfin_sf_2         1\n",
       "bsmt_unf_sf          1\n",
       "total_bsmt_sf        1\n",
       "bsmt_full_bath       2\n",
       "bsmt_half_bath       2\n",
       "fireplace_qu      1000\n",
       "garage_type        113\n",
       "garage_yr_blt      114\n",
       "garage_finish      114\n",
       "garage_cars          1\n",
       "garage_area          1\n",
       "garage_qual        114\n",
       "garage_cond        114\n",
       "pool_qc           2042\n",
       "fence             1651\n",
       "misc_feature      1986\n",
       "dtype: int64"
      ]
     },
     "execution_count": 10,
     "metadata": {},
     "output_type": "execute_result"
    }
   ],
   "source": [
    "train.isnull().sum()[train.isnull().sum() != 0]"
   ]
  },
  {
   "cell_type": "code",
   "execution_count": 11,
   "metadata": {},
   "outputs": [],
   "source": [
    "cols = ['mas_vnr_type', 'mas_vnr_area', 'bsmt_qual', 'bsmt_cond', 'bsmt_exposure', \n",
    "        'fireplace_qu', 'garage_type', 'garage_qual', 'garage_cond', 'garage_finish', \n",
    "        'garage_yr_blt', 'garage_cars', 'garage_area', 'pool_qc', 'alley', 'fence', 'misc_feature'] \n",
    "\n",
    "for col in cols:\n",
    "    train[col].fillna(0, inplace=True)"
   ]
  },
  {
   "cell_type": "markdown",
   "metadata": {},
   "source": [
    "- Since the null amounts for garages are the same I decided to say they were no garage and lump the null cars and area group in as well since they were missing just 1 value each \n"
   ]
  },
  {
   "cell_type": "code",
   "execution_count": 12,
   "metadata": {},
   "outputs": [
    {
     "data": {
      "text/plain": [
       "lot_frontage      330\n",
       "bsmtfin_type_1     55\n",
       "bsmtfin_sf_1        1\n",
       "bsmtfin_type_2     56\n",
       "bsmtfin_sf_2        1\n",
       "bsmt_unf_sf         1\n",
       "total_bsmt_sf       1\n",
       "bsmt_full_bath      2\n",
       "bsmt_half_bath      2\n",
       "dtype: int64"
      ]
     },
     "execution_count": 12,
     "metadata": {},
     "output_type": "execute_result"
    }
   ],
   "source": [
    "train.isnull().sum()[train.isnull().sum() != 0]"
   ]
  },
  {
   "cell_type": "code",
   "execution_count": 13,
   "metadata": {},
   "outputs": [
    {
     "data": {
      "text/plain": [
       "ms_zoning         object\n",
       "street            object\n",
       "alley             object\n",
       "lot_shape         object\n",
       "land_contour      object\n",
       "utilities         object\n",
       "lot_config        object\n",
       "land_slope        object\n",
       "neighborhood      object\n",
       "condition_1       object\n",
       "condition_2       object\n",
       "bldg_type         object\n",
       "house_style       object\n",
       "roof_style        object\n",
       "roof_matl         object\n",
       "exterior_1st      object\n",
       "exterior_2nd      object\n",
       "mas_vnr_type      object\n",
       "exter_qual        object\n",
       "exter_cond        object\n",
       "foundation        object\n",
       "bsmt_qual         object\n",
       "bsmt_cond         object\n",
       "bsmt_exposure     object\n",
       "bsmtfin_type_1    object\n",
       "bsmtfin_type_2    object\n",
       "heating           object\n",
       "heating_qc        object\n",
       "central_air       object\n",
       "electrical        object\n",
       "kitchen_qual      object\n",
       "functional        object\n",
       "fireplace_qu      object\n",
       "garage_type       object\n",
       "garage_finish     object\n",
       "garage_qual       object\n",
       "garage_cond       object\n",
       "paved_drive       object\n",
       "pool_qc           object\n",
       "fence             object\n",
       "misc_feature      object\n",
       "sale_type         object\n",
       "dtype: object"
      ]
     },
     "execution_count": 13,
     "metadata": {},
     "output_type": "execute_result"
    }
   ],
   "source": [
    "train.dtypes[train.dtypes == object]"
   ]
  },
  {
   "cell_type": "code",
   "execution_count": 14,
   "metadata": {},
   "outputs": [
    {
     "data": {
      "text/plain": [
       "TA    1834\n",
       "Gd      89\n",
       "Fa      65\n",
       "0       55\n",
       "Po       5\n",
       "Ex       3\n",
       "Name: bsmt_cond, dtype: int64"
      ]
     },
     "execution_count": 14,
     "metadata": {},
     "output_type": "execute_result"
    }
   ],
   "source": [
    "train['bsmt_cond'].value_counts()"
   ]
  },
  {
   "cell_type": "code",
   "execution_count": 15,
   "metadata": {},
   "outputs": [],
   "source": [
    "#creating a function to switch our categorical data to numerical data for quality/condition\n",
    "def qual_to_num(string):\n",
    "    if string == 'Ex':\n",
    "        return 5\n",
    "    elif string == 'Gd':\n",
    "        return 4\n",
    "    elif string == 'TA':\n",
    "        return 3\n",
    "    elif string == 'Fa':\n",
    "        return 2\n",
    "    elif string == 'Po':\n",
    "        return 1\n",
    "    else:\n",
    "        return 0"
   ]
  },
  {
   "cell_type": "code",
   "execution_count": 16,
   "metadata": {},
   "outputs": [
    {
     "data": {
      "text/plain": [
       "GLQ    615\n",
       "Unf    603\n",
       "ALQ    293\n",
       "BLQ    200\n",
       "Rec    183\n",
       "LwQ    102\n",
       "Name: bsmtfin_type_1, dtype: int64"
      ]
     },
     "execution_count": 16,
     "metadata": {},
     "output_type": "execute_result"
    }
   ],
   "source": [
    "train['bsmtfin_type_1'].value_counts()"
   ]
  },
  {
   "cell_type": "code",
   "execution_count": 17,
   "metadata": {},
   "outputs": [],
   "source": [
    "#function to change bsmt finish since we have two columns for that\n",
    "def num_finish(string):\n",
    "    if string == 'GLQ':\n",
    "        return 6\n",
    "    elif string == 'ALQ':\n",
    "        return 5\n",
    "    elif string == 'BLQ':\n",
    "        return 4\n",
    "    elif string == 'Rec':\n",
    "        return 3\n",
    "    elif string == 'LwQ':\n",
    "        return 2\n",
    "    elif string == 'Unf':\n",
    "        return 1\n",
    "    else:\n",
    "        return 0"
   ]
  },
  {
   "cell_type": "code",
   "execution_count": 18,
   "metadata": {},
   "outputs": [
    {
     "data": {
      "text/plain": [
       "SBrkr    1868\n",
       "FuseA     140\n",
       "FuseF      35\n",
       "FuseP       7\n",
       "Mix         1\n",
       "Name: electrical, dtype: int64"
      ]
     },
     "execution_count": 18,
     "metadata": {},
     "output_type": "execute_result"
    }
   ],
   "source": [
    "train['electrical'].value_counts()"
   ]
  },
  {
   "cell_type": "code",
   "execution_count": 19,
   "metadata": {},
   "outputs": [],
   "source": [
    "#function for changing electrical categories to numerical values\n",
    "def elec_type(string):\n",
    "    if string == 'SBrKr':\n",
    "        return 5\n",
    "    elif string == 'FuseA':\n",
    "        return 4\n",
    "    elif string == 'FuseF':\n",
    "        return 3\n",
    "    elif string == 'FuseP':\n",
    "        return 2\n",
    "    elif string == 'Mix':\n",
    "        return 1\n",
    "    else:\n",
    "        return 0\n",
    "        "
   ]
  },
  {
   "cell_type": "code",
   "execution_count": 20,
   "metadata": {},
   "outputs": [
    {
     "data": {
      "text/plain": [
       "Typ     1915\n",
       "Min1      42\n",
       "Min2      42\n",
       "Mod       29\n",
       "Maj1      12\n",
       "Maj2       7\n",
       "Sev        2\n",
       "Sal        2\n",
       "Name: functional, dtype: int64"
      ]
     },
     "execution_count": 20,
     "metadata": {},
     "output_type": "execute_result"
    }
   ],
   "source": [
    "train['functional'].value_counts()"
   ]
  },
  {
   "cell_type": "code",
   "execution_count": 21,
   "metadata": {},
   "outputs": [],
   "source": [
    "#function for numerically ranking house functionality\n",
    "def house_func(string):\n",
    "    if string == 'Typ':\n",
    "        return 7\n",
    "    elif string == 'Min2':\n",
    "        return 6\n",
    "    elif string == 'Min1':\n",
    "        return 5\n",
    "    elif string == 'Mod':\n",
    "        return 4\n",
    "    elif string == 'Maj1':\n",
    "        return 3\n",
    "    elif string == 'Maj2':\n",
    "        return 2\n",
    "    elif string == 'Sev':\n",
    "        return 1\n",
    "    else:\n",
    "        return 0"
   ]
  },
  {
   "cell_type": "code",
   "execution_count": 22,
   "metadata": {},
   "outputs": [
    {
     "data": {
      "text/plain": [
       "AllPub    2049\n",
       "NoSewr       1\n",
       "NoSeWa       1\n",
       "Name: utilities, dtype: int64"
      ]
     },
     "execution_count": 22,
     "metadata": {},
     "output_type": "execute_result"
    }
   ],
   "source": [
    "train['utilities'].value_counts()"
   ]
  },
  {
   "cell_type": "code",
   "execution_count": 23,
   "metadata": {},
   "outputs": [],
   "source": [
    "#creating function for utilities values\n",
    "def utilities_type(string):\n",
    "    if string == 'AllPub':\n",
    "        return 4\n",
    "    elif string == 'NoSewr':\n",
    "        return 3\n",
    "    elif string == 'NoSeWa':\n",
    "        return 2\n",
    "    elif string == 'ELO':\n",
    "        return 1\n",
    "    else:\n",
    "        return 0"
   ]
  },
  {
   "cell_type": "code",
   "execution_count": 24,
   "metadata": {},
   "outputs": [
    {
     "data": {
      "text/plain": [
       "No    1339\n",
       "Av     288\n",
       "Gd     203\n",
       "Mn     163\n",
       "0       58\n",
       "Name: bsmt_exposure, dtype: int64"
      ]
     },
     "execution_count": 24,
     "metadata": {},
     "output_type": "execute_result"
    }
   ],
   "source": [
    "train['bsmt_exposure'].value_counts()"
   ]
  },
  {
   "cell_type": "code",
   "execution_count": 25,
   "metadata": {},
   "outputs": [],
   "source": [
    "def base_expose(string):\n",
    "    if string == 'Gd':\n",
    "        return 4\n",
    "    elif string == 'Av':\n",
    "        return 3\n",
    "    elif string == 'Mn':\n",
    "        return 2\n",
    "    elif string == 'No':\n",
    "        return 1\n",
    "    else:\n",
    "        return 0"
   ]
  },
  {
   "cell_type": "code",
   "execution_count": 26,
   "metadata": {},
   "outputs": [
    {
     "data": {
      "text/plain": [
       "Unf    849\n",
       "RFn    579\n",
       "Fin    509\n",
       "0      114\n",
       "Name: garage_finish, dtype: int64"
      ]
     },
     "execution_count": 26,
     "metadata": {},
     "output_type": "execute_result"
    }
   ],
   "source": [
    "train['garage_finish'].value_counts()"
   ]
  },
  {
   "cell_type": "code",
   "execution_count": 27,
   "metadata": {},
   "outputs": [],
   "source": [
    "def garage_fin_num(string):\n",
    "    if string == 'Fin':\n",
    "        return 3\n",
    "    elif string == 'RFn':\n",
    "        return 2\n",
    "    elif string == 'Unf':\n",
    "        return 1\n",
    "    else:\n",
    "        return 0"
   ]
  },
  {
   "cell_type": "code",
   "execution_count": 28,
   "metadata": {},
   "outputs": [
    {
     "data": {
      "text/plain": [
       "Y    1861\n",
       "N     151\n",
       "P      39\n",
       "Name: paved_drive, dtype: int64"
      ]
     },
     "execution_count": 28,
     "metadata": {},
     "output_type": "execute_result"
    }
   ],
   "source": [
    "train['paved_drive'].value_counts()"
   ]
  },
  {
   "cell_type": "code",
   "execution_count": 29,
   "metadata": {},
   "outputs": [],
   "source": [
    "def paved_drive(string):\n",
    "    if string == 'Y':\n",
    "        return 2\n",
    "    elif string == 'P':\n",
    "        return 1\n",
    "    else:\n",
    "        return 0"
   ]
  },
  {
   "cell_type": "code",
   "execution_count": 30,
   "metadata": {},
   "outputs": [
    {
     "data": {
      "text/plain": [
       "Reg    1295\n",
       "IR1     692\n",
       "IR2      55\n",
       "IR3       9\n",
       "Name: lot_shape, dtype: int64"
      ]
     },
     "execution_count": 30,
     "metadata": {},
     "output_type": "execute_result"
    }
   ],
   "source": [
    "train['lot_shape'].value_counts()"
   ]
  },
  {
   "cell_type": "code",
   "execution_count": 31,
   "metadata": {},
   "outputs": [],
   "source": [
    "def lot_shape(string):\n",
    "    if string == 'Reg':\n",
    "        return 4\n",
    "    elif string == 'IR1':\n",
    "        return 3\n",
    "    elif string == 'IR2':\n",
    "        return 2\n",
    "    elif string == 'IR3':\n",
    "        return 1\n",
    "    else:\n",
    "        return 0"
   ]
  },
  {
   "cell_type": "code",
   "execution_count": 32,
   "metadata": {},
   "outputs": [
    {
     "data": {
      "text/plain": [
       "Gtl    1953\n",
       "Mod      88\n",
       "Sev      10\n",
       "Name: land_slope, dtype: int64"
      ]
     },
     "execution_count": 32,
     "metadata": {},
     "output_type": "execute_result"
    }
   ],
   "source": [
    "train['land_slope'].value_counts()"
   ]
  },
  {
   "cell_type": "code",
   "execution_count": 33,
   "metadata": {},
   "outputs": [],
   "source": [
    "def slope_type(string):\n",
    "    if string == 'Gtl':\n",
    "        return 3\n",
    "    elif string == 'Mod':\n",
    "        return 2\n",
    "    elif string == 'Sev':\n",
    "        return 1\n",
    "    else:\n",
    "        return 0"
   ]
  },
  {
   "cell_type": "code",
   "execution_count": 109,
   "metadata": {},
   "outputs": [
    {
     "data": {
      "text/plain": [
       "0        1651\n",
       "MnPrv     227\n",
       "GdPrv      83\n",
       "GdWo       80\n",
       "MnWw       10\n",
       "Name: fence, dtype: int64"
      ]
     },
     "execution_count": 109,
     "metadata": {},
     "output_type": "execute_result"
    }
   ],
   "source": [
    "train['fence'].value_counts()"
   ]
  },
  {
   "cell_type": "code",
   "execution_count": 110,
   "metadata": {},
   "outputs": [],
   "source": [
    "def fence_num(string):\n",
    "    if string == 'GdPrv':\n",
    "        return 4\n",
    "    elif string == 'MnPrv':\n",
    "        return 3\n",
    "    elif string == 'GdWo':\n",
    "        return 2\n",
    "    elif string == 'MnWw':\n",
    "        return 1\n",
    "    else:\n",
    "        return 0"
   ]
  },
  {
   "cell_type": "markdown",
   "metadata": {},
   "source": [
    "### Converting ordinal data with the fucntions from above "
   ]
  },
  {
   "cell_type": "code",
   "execution_count": 34,
   "metadata": {
    "scrolled": true
   },
   "outputs": [
    {
     "data": {
      "text/plain": [
       "Index(['id', 'pid', 'ms_subclass', 'ms_zoning', 'lot_frontage', 'lot_area',\n",
       "       'street', 'alley', 'lot_shape', 'land_contour', 'utilities',\n",
       "       'lot_config', 'land_slope', 'neighborhood', 'condition_1',\n",
       "       'condition_2', 'bldg_type', 'house_style', 'overall_qual',\n",
       "       'overall_cond', 'year_built', 'year_remod/add', 'roof_style',\n",
       "       'roof_matl', 'exterior_1st', 'exterior_2nd', 'mas_vnr_type',\n",
       "       'mas_vnr_area', 'exter_qual', 'exter_cond', 'foundation', 'bsmt_qual',\n",
       "       'bsmt_cond', 'bsmt_exposure', 'bsmtfin_type_1', 'bsmtfin_sf_1',\n",
       "       'bsmtfin_type_2', 'bsmtfin_sf_2', 'bsmt_unf_sf', 'total_bsmt_sf',\n",
       "       'heating', 'heating_qc', 'central_air', 'electrical', '1st_flr_sf',\n",
       "       '2nd_flr_sf', 'low_qual_fin_sf', 'gr_liv_area', 'bsmt_full_bath',\n",
       "       'bsmt_half_bath', 'full_bath', 'half_bath', 'bedroom_abvgr',\n",
       "       'kitchen_abvgr', 'kitchen_qual', 'totrms_abvgrd', 'functional',\n",
       "       'fireplaces', 'fireplace_qu', 'garage_type', 'garage_yr_blt',\n",
       "       'garage_finish', 'garage_cars', 'garage_area', 'garage_qual',\n",
       "       'garage_cond', 'paved_drive', 'wood_deck_sf', 'open_porch_sf',\n",
       "       'enclosed_porch', '3ssn_porch', 'screen_porch', 'pool_area', 'pool_qc',\n",
       "       'fence', 'misc_feature', 'misc_val', 'mo_sold', 'yr_sold', 'sale_type',\n",
       "       'saleprice'],\n",
       "      dtype='object')"
      ]
     },
     "execution_count": 34,
     "metadata": {},
     "output_type": "execute_result"
    }
   ],
   "source": [
    "train.columns"
   ]
  },
  {
   "cell_type": "code",
   "execution_count": 35,
   "metadata": {},
   "outputs": [],
   "source": [
    "#iterating through each quality/condition column in order to call the function to switch each value to it's corresponding number\n",
    "for col in ['exter_qual', 'exter_cond', 'bsmt_qual', 'bsmt_cond', 'kitchen_qual', \n",
    "            'fireplace_qu', 'garage_qual', 'garage_cond', 'heating_qc', 'pool_qc']:\n",
    "    train[col] = train[col].map(qual_to_num)"
   ]
  },
  {
   "cell_type": "code",
   "execution_count": 36,
   "metadata": {},
   "outputs": [
    {
     "data": {
      "text/plain": [
       "3    1778\n",
       "4     215\n",
       "2      49\n",
       "5       7\n",
       "1       2\n",
       "Name: exter_cond, dtype: int64"
      ]
     },
     "execution_count": 36,
     "metadata": {},
     "output_type": "execute_result"
    }
   ],
   "source": [
    "train['exter_cond'].value_counts() #checking to see if function worked"
   ]
  },
  {
   "cell_type": "code",
   "execution_count": 37,
   "metadata": {},
   "outputs": [],
   "source": [
    "#iterating through each basement finish type to call function to switch values\n",
    "for col in ['bsmtfin_type_1', 'bsmtfin_type_2']:\n",
    "    train[col] = train[col].map(num_finish)"
   ]
  },
  {
   "cell_type": "code",
   "execution_count": 38,
   "metadata": {},
   "outputs": [
    {
     "data": {
      "text/plain": [
       "6    615\n",
       "1    603\n",
       "5    293\n",
       "4    200\n",
       "3    183\n",
       "2    102\n",
       "0     55\n",
       "Name: bsmtfin_type_1, dtype: int64"
      ]
     },
     "execution_count": 38,
     "metadata": {},
     "output_type": "execute_result"
    }
   ],
   "source": [
    "train['bsmtfin_type_1'].value_counts() #checking to see if function worked"
   ]
  },
  {
   "cell_type": "code",
   "execution_count": 39,
   "metadata": {},
   "outputs": [],
   "source": [
    "#calling function to switch electrical values to the new numerical values\n",
    "train['electrical'] = train['electrical'].map(elec_type) "
   ]
  },
  {
   "cell_type": "code",
   "execution_count": 40,
   "metadata": {},
   "outputs": [
    {
     "data": {
      "text/plain": [
       "0    1868\n",
       "4     140\n",
       "3      35\n",
       "2       7\n",
       "1       1\n",
       "Name: electrical, dtype: int64"
      ]
     },
     "execution_count": 40,
     "metadata": {},
     "output_type": "execute_result"
    }
   ],
   "source": [
    "train['electrical'].value_counts() #checking to see if function worked"
   ]
  },
  {
   "cell_type": "code",
   "execution_count": 41,
   "metadata": {},
   "outputs": [],
   "source": [
    "#now calling the function for house functionality to change ordinal category values to ordinal numeric values\n",
    "train['functional'] = train['functional'].map(house_func)"
   ]
  },
  {
   "cell_type": "code",
   "execution_count": 42,
   "metadata": {},
   "outputs": [
    {
     "data": {
      "text/plain": [
       "7    1915\n",
       "5      42\n",
       "6      42\n",
       "4      29\n",
       "3      12\n",
       "2       7\n",
       "1       2\n",
       "0       2\n",
       "Name: functional, dtype: int64"
      ]
     },
     "execution_count": 42,
     "metadata": {},
     "output_type": "execute_result"
    }
   ],
   "source": [
    "train['functional'].value_counts() #making sure function worked"
   ]
  },
  {
   "cell_type": "code",
   "execution_count": 43,
   "metadata": {},
   "outputs": [],
   "source": [
    "train['utilities'] = train['utilities'].map(utilities_type)"
   ]
  },
  {
   "cell_type": "code",
   "execution_count": 44,
   "metadata": {
    "scrolled": true
   },
   "outputs": [
    {
     "data": {
      "text/plain": [
       "4    2049\n",
       "3       1\n",
       "2       1\n",
       "Name: utilities, dtype: int64"
      ]
     },
     "execution_count": 44,
     "metadata": {},
     "output_type": "execute_result"
    }
   ],
   "source": [
    "train['utilities'].value_counts()"
   ]
  },
  {
   "cell_type": "code",
   "execution_count": 45,
   "metadata": {},
   "outputs": [],
   "source": [
    "train['bsmt_exposure'] = train['bsmt_exposure'].map(base_expose)"
   ]
  },
  {
   "cell_type": "code",
   "execution_count": 46,
   "metadata": {
    "scrolled": true
   },
   "outputs": [
    {
     "data": {
      "text/plain": [
       "1    1339\n",
       "3     288\n",
       "4     203\n",
       "2     163\n",
       "0      58\n",
       "Name: bsmt_exposure, dtype: int64"
      ]
     },
     "execution_count": 46,
     "metadata": {},
     "output_type": "execute_result"
    }
   ],
   "source": [
    "train['bsmt_exposure'].value_counts()"
   ]
  },
  {
   "cell_type": "code",
   "execution_count": 47,
   "metadata": {},
   "outputs": [],
   "source": [
    "train['garage_finish'] = train['garage_finish'].map(garage_fin_num)"
   ]
  },
  {
   "cell_type": "code",
   "execution_count": 48,
   "metadata": {
    "scrolled": true
   },
   "outputs": [
    {
     "data": {
      "text/plain": [
       "1    849\n",
       "2    579\n",
       "3    509\n",
       "0    114\n",
       "Name: garage_finish, dtype: int64"
      ]
     },
     "execution_count": 48,
     "metadata": {},
     "output_type": "execute_result"
    }
   ],
   "source": [
    "train['garage_finish'].value_counts()"
   ]
  },
  {
   "cell_type": "code",
   "execution_count": 49,
   "metadata": {},
   "outputs": [],
   "source": [
    "train['paved_drive'] = train['paved_drive'].map(paved_drive)"
   ]
  },
  {
   "cell_type": "code",
   "execution_count": 50,
   "metadata": {
    "scrolled": true
   },
   "outputs": [
    {
     "data": {
      "text/plain": [
       "2    1861\n",
       "0     151\n",
       "1      39\n",
       "Name: paved_drive, dtype: int64"
      ]
     },
     "execution_count": 50,
     "metadata": {},
     "output_type": "execute_result"
    }
   ],
   "source": [
    "train['paved_drive'].value_counts()"
   ]
  },
  {
   "cell_type": "code",
   "execution_count": 51,
   "metadata": {},
   "outputs": [],
   "source": [
    "train['lot_shape'] = train['lot_shape'].map(lot_shape)"
   ]
  },
  {
   "cell_type": "code",
   "execution_count": 52,
   "metadata": {
    "scrolled": true
   },
   "outputs": [
    {
     "data": {
      "text/plain": [
       "4    1295\n",
       "3     692\n",
       "2      55\n",
       "1       9\n",
       "Name: lot_shape, dtype: int64"
      ]
     },
     "execution_count": 52,
     "metadata": {},
     "output_type": "execute_result"
    }
   ],
   "source": [
    "train['lot_shape'].value_counts()"
   ]
  },
  {
   "cell_type": "code",
   "execution_count": 53,
   "metadata": {},
   "outputs": [],
   "source": [
    "train['land_slope'] = train['land_slope'].map(slope_type)"
   ]
  },
  {
   "cell_type": "code",
   "execution_count": 54,
   "metadata": {
    "scrolled": true
   },
   "outputs": [
    {
     "data": {
      "text/plain": [
       "3    1953\n",
       "2      88\n",
       "1      10\n",
       "Name: land_slope, dtype: int64"
      ]
     },
     "execution_count": 54,
     "metadata": {},
     "output_type": "execute_result"
    }
   ],
   "source": [
    "train['land_slope'].value_counts()"
   ]
  },
  {
   "cell_type": "code",
   "execution_count": 111,
   "metadata": {},
   "outputs": [],
   "source": [
    "train['fence'] = train['fence'].map(fence_num)"
   ]
  },
  {
   "cell_type": "code",
   "execution_count": 112,
   "metadata": {},
   "outputs": [
    {
     "data": {
      "text/plain": [
       "0    1651\n",
       "3     227\n",
       "4      83\n",
       "2      80\n",
       "1      10\n",
       "Name: fence, dtype: int64"
      ]
     },
     "execution_count": 112,
     "metadata": {},
     "output_type": "execute_result"
    }
   ],
   "source": [
    "train['fence'].value_counts()"
   ]
  },
  {
   "cell_type": "markdown",
   "metadata": {},
   "source": [
    "### Addressing other null values"
   ]
  },
  {
   "cell_type": "code",
   "execution_count": 55,
   "metadata": {
    "scrolled": true
   },
   "outputs": [
    {
     "data": {
      "text/plain": [
       "lot_frontage      330\n",
       "bsmtfin_sf_1        1\n",
       "bsmtfin_sf_2        1\n",
       "bsmt_unf_sf         1\n",
       "total_bsmt_sf       1\n",
       "bsmt_full_bath      2\n",
       "bsmt_half_bath      2\n",
       "dtype: int64"
      ]
     },
     "execution_count": 55,
     "metadata": {},
     "output_type": "execute_result"
    }
   ],
   "source": [
    "train.isnull().sum()[train.isnull().sum()!=0]"
   ]
  },
  {
   "cell_type": "code",
   "execution_count": 56,
   "metadata": {},
   "outputs": [
    {
     "data": {
      "text/html": [
       "<div>\n",
       "<style scoped>\n",
       "    .dataframe tbody tr th:only-of-type {\n",
       "        vertical-align: middle;\n",
       "    }\n",
       "\n",
       "    .dataframe tbody tr th {\n",
       "        vertical-align: top;\n",
       "    }\n",
       "\n",
       "    .dataframe thead th {\n",
       "        text-align: right;\n",
       "    }\n",
       "</style>\n",
       "<table border=\"1\" class=\"dataframe\">\n",
       "  <thead>\n",
       "    <tr style=\"text-align: right;\">\n",
       "      <th></th>\n",
       "      <th>id</th>\n",
       "      <th>pid</th>\n",
       "      <th>ms_subclass</th>\n",
       "      <th>ms_zoning</th>\n",
       "      <th>lot_frontage</th>\n",
       "      <th>lot_area</th>\n",
       "      <th>street</th>\n",
       "      <th>alley</th>\n",
       "      <th>lot_shape</th>\n",
       "      <th>land_contour</th>\n",
       "      <th>...</th>\n",
       "      <th>screen_porch</th>\n",
       "      <th>pool_area</th>\n",
       "      <th>pool_qc</th>\n",
       "      <th>fence</th>\n",
       "      <th>misc_feature</th>\n",
       "      <th>misc_val</th>\n",
       "      <th>mo_sold</th>\n",
       "      <th>yr_sold</th>\n",
       "      <th>sale_type</th>\n",
       "      <th>saleprice</th>\n",
       "    </tr>\n",
       "  </thead>\n",
       "  <tbody>\n",
       "    <tr>\n",
       "      <th>0</th>\n",
       "      <td>109</td>\n",
       "      <td>533352170</td>\n",
       "      <td>60</td>\n",
       "      <td>RL</td>\n",
       "      <td>NaN</td>\n",
       "      <td>13517</td>\n",
       "      <td>Pave</td>\n",
       "      <td>0</td>\n",
       "      <td>3</td>\n",
       "      <td>Lvl</td>\n",
       "      <td>...</td>\n",
       "      <td>0</td>\n",
       "      <td>0</td>\n",
       "      <td>0</td>\n",
       "      <td>0</td>\n",
       "      <td>0</td>\n",
       "      <td>0</td>\n",
       "      <td>3</td>\n",
       "      <td>2010</td>\n",
       "      <td>WD</td>\n",
       "      <td>130500</td>\n",
       "    </tr>\n",
       "    <tr>\n",
       "      <th>1</th>\n",
       "      <td>544</td>\n",
       "      <td>531379050</td>\n",
       "      <td>60</td>\n",
       "      <td>RL</td>\n",
       "      <td>43.0</td>\n",
       "      <td>11492</td>\n",
       "      <td>Pave</td>\n",
       "      <td>0</td>\n",
       "      <td>3</td>\n",
       "      <td>Lvl</td>\n",
       "      <td>...</td>\n",
       "      <td>0</td>\n",
       "      <td>0</td>\n",
       "      <td>0</td>\n",
       "      <td>0</td>\n",
       "      <td>0</td>\n",
       "      <td>0</td>\n",
       "      <td>4</td>\n",
       "      <td>2009</td>\n",
       "      <td>WD</td>\n",
       "      <td>220000</td>\n",
       "    </tr>\n",
       "    <tr>\n",
       "      <th>2</th>\n",
       "      <td>153</td>\n",
       "      <td>535304180</td>\n",
       "      <td>20</td>\n",
       "      <td>RL</td>\n",
       "      <td>68.0</td>\n",
       "      <td>7922</td>\n",
       "      <td>Pave</td>\n",
       "      <td>0</td>\n",
       "      <td>4</td>\n",
       "      <td>Lvl</td>\n",
       "      <td>...</td>\n",
       "      <td>0</td>\n",
       "      <td>0</td>\n",
       "      <td>0</td>\n",
       "      <td>0</td>\n",
       "      <td>0</td>\n",
       "      <td>0</td>\n",
       "      <td>1</td>\n",
       "      <td>2010</td>\n",
       "      <td>WD</td>\n",
       "      <td>109000</td>\n",
       "    </tr>\n",
       "    <tr>\n",
       "      <th>3</th>\n",
       "      <td>318</td>\n",
       "      <td>916386060</td>\n",
       "      <td>60</td>\n",
       "      <td>RL</td>\n",
       "      <td>73.0</td>\n",
       "      <td>9802</td>\n",
       "      <td>Pave</td>\n",
       "      <td>0</td>\n",
       "      <td>4</td>\n",
       "      <td>Lvl</td>\n",
       "      <td>...</td>\n",
       "      <td>0</td>\n",
       "      <td>0</td>\n",
       "      <td>0</td>\n",
       "      <td>0</td>\n",
       "      <td>0</td>\n",
       "      <td>0</td>\n",
       "      <td>4</td>\n",
       "      <td>2010</td>\n",
       "      <td>WD</td>\n",
       "      <td>174000</td>\n",
       "    </tr>\n",
       "    <tr>\n",
       "      <th>4</th>\n",
       "      <td>255</td>\n",
       "      <td>906425045</td>\n",
       "      <td>50</td>\n",
       "      <td>RL</td>\n",
       "      <td>82.0</td>\n",
       "      <td>14235</td>\n",
       "      <td>Pave</td>\n",
       "      <td>0</td>\n",
       "      <td>3</td>\n",
       "      <td>Lvl</td>\n",
       "      <td>...</td>\n",
       "      <td>0</td>\n",
       "      <td>0</td>\n",
       "      <td>0</td>\n",
       "      <td>0</td>\n",
       "      <td>0</td>\n",
       "      <td>0</td>\n",
       "      <td>3</td>\n",
       "      <td>2010</td>\n",
       "      <td>WD</td>\n",
       "      <td>138500</td>\n",
       "    </tr>\n",
       "  </tbody>\n",
       "</table>\n",
       "<p>5 rows × 81 columns</p>\n",
       "</div>"
      ],
      "text/plain": [
       "    id        pid  ms_subclass ms_zoning  lot_frontage  lot_area street alley  \\\n",
       "0  109  533352170           60        RL           NaN     13517   Pave     0   \n",
       "1  544  531379050           60        RL          43.0     11492   Pave     0   \n",
       "2  153  535304180           20        RL          68.0      7922   Pave     0   \n",
       "3  318  916386060           60        RL          73.0      9802   Pave     0   \n",
       "4  255  906425045           50        RL          82.0     14235   Pave     0   \n",
       "\n",
       "   lot_shape land_contour  ...  screen_porch pool_area  pool_qc fence  \\\n",
       "0          3          Lvl  ...             0         0        0     0   \n",
       "1          3          Lvl  ...             0         0        0     0   \n",
       "2          4          Lvl  ...             0         0        0     0   \n",
       "3          4          Lvl  ...             0         0        0     0   \n",
       "4          3          Lvl  ...             0         0        0     0   \n",
       "\n",
       "  misc_feature misc_val mo_sold yr_sold  sale_type  saleprice  \n",
       "0            0        0       3    2010        WD      130500  \n",
       "1            0        0       4    2009        WD      220000  \n",
       "2            0        0       1    2010        WD      109000  \n",
       "3            0        0       4    2010        WD      174000  \n",
       "4            0        0       3    2010        WD      138500  \n",
       "\n",
       "[5 rows x 81 columns]"
      ]
     },
     "execution_count": 56,
     "metadata": {},
     "output_type": "execute_result"
    }
   ],
   "source": [
    "train.head()"
   ]
  },
  {
   "cell_type": "code",
   "execution_count": 57,
   "metadata": {},
   "outputs": [],
   "source": [
    "train['lot_frontage'].fillna(train['lot_frontage'].mean(), inplace=True)"
   ]
  },
  {
   "cell_type": "markdown",
   "metadata": {},
   "source": [
    "Decided to impute lont frontage with the average occuring value since most lots belong to the same residential type. I felt like that might be a safe impute. I don't think I'll end up using Lot frontage in my model but wanted to take care of nulls just incase I decide to."
   ]
  },
  {
   "cell_type": "code",
   "execution_count": 58,
   "metadata": {},
   "outputs": [
    {
     "data": {
      "text/plain": [
       "bsmtfin_sf_1      1\n",
       "bsmtfin_sf_2      1\n",
       "bsmt_unf_sf       1\n",
       "total_bsmt_sf     1\n",
       "bsmt_full_bath    2\n",
       "bsmt_half_bath    2\n",
       "dtype: int64"
      ]
     },
     "execution_count": 58,
     "metadata": {},
     "output_type": "execute_result"
    }
   ],
   "source": [
    "train.isnull().sum()[train.isnull().sum()!=0]"
   ]
  },
  {
   "cell_type": "markdown",
   "metadata": {},
   "source": [
    "Deciding to impute these last few null values with zeros since there is so little it should not impact our results."
   ]
  },
  {
   "cell_type": "code",
   "execution_count": 59,
   "metadata": {},
   "outputs": [],
   "source": [
    "train.fillna(0, inplace=True)"
   ]
  },
  {
   "cell_type": "code",
   "execution_count": 60,
   "metadata": {},
   "outputs": [
    {
     "data": {
      "text/plain": [
       "Series([], dtype: int64)"
      ]
     },
     "execution_count": 60,
     "metadata": {},
     "output_type": "execute_result"
    }
   ],
   "source": [
    "train.isnull().sum()[train.isnull().sum()!=0]"
   ]
  },
  {
   "cell_type": "markdown",
   "metadata": {},
   "source": [
    "## Data Visulaization & Feature Engineering\n",
    "\n",
    "- In this section I'll be taking a look at how different variables correlate with each other as well as some feature engineering before starting my model.\n"
   ]
  },
  {
   "cell_type": "code",
   "execution_count": 61,
   "metadata": {},
   "outputs": [
    {
     "data": {
      "text/plain": [
       "Index(['id', 'pid', 'ms_subclass', 'ms_zoning', 'lot_frontage', 'lot_area',\n",
       "       'street', 'alley', 'lot_shape', 'land_contour', 'utilities',\n",
       "       'lot_config', 'land_slope', 'neighborhood', 'condition_1',\n",
       "       'condition_2', 'bldg_type', 'house_style', 'overall_qual',\n",
       "       'overall_cond', 'year_built', 'year_remod/add', 'roof_style',\n",
       "       'roof_matl', 'exterior_1st', 'exterior_2nd', 'mas_vnr_type',\n",
       "       'mas_vnr_area', 'exter_qual', 'exter_cond', 'foundation', 'bsmt_qual',\n",
       "       'bsmt_cond', 'bsmt_exposure', 'bsmtfin_type_1', 'bsmtfin_sf_1',\n",
       "       'bsmtfin_type_2', 'bsmtfin_sf_2', 'bsmt_unf_sf', 'total_bsmt_sf',\n",
       "       'heating', 'heating_qc', 'central_air', 'electrical', '1st_flr_sf',\n",
       "       '2nd_flr_sf', 'low_qual_fin_sf', 'gr_liv_area', 'bsmt_full_bath',\n",
       "       'bsmt_half_bath', 'full_bath', 'half_bath', 'bedroom_abvgr',\n",
       "       'kitchen_abvgr', 'kitchen_qual', 'totrms_abvgrd', 'functional',\n",
       "       'fireplaces', 'fireplace_qu', 'garage_type', 'garage_yr_blt',\n",
       "       'garage_finish', 'garage_cars', 'garage_area', 'garage_qual',\n",
       "       'garage_cond', 'paved_drive', 'wood_deck_sf', 'open_porch_sf',\n",
       "       'enclosed_porch', '3ssn_porch', 'screen_porch', 'pool_area', 'pool_qc',\n",
       "       'fence', 'misc_feature', 'misc_val', 'mo_sold', 'yr_sold', 'sale_type',\n",
       "       'saleprice'],\n",
       "      dtype='object')"
      ]
     },
     "execution_count": 61,
     "metadata": {},
     "output_type": "execute_result"
    }
   ],
   "source": [
    "train.columns"
   ]
  },
  {
   "cell_type": "code",
   "execution_count": 62,
   "metadata": {},
   "outputs": [
    {
     "data": {
      "text/plain": [
       "['bsmt_full_bath', 'bsmt_half_bath', 'full_bath', 'half_bath']"
      ]
     },
     "execution_count": 62,
     "metadata": {},
     "output_type": "execute_result"
    }
   ],
   "source": [
    "#similar to a code we did in class, I'm going to create a loop for all columns with bathroom in it to get a total bathroom count\n",
    "[col for col in train.columns if 'bath' in col]\n"
   ]
  },
  {
   "cell_type": "code",
   "execution_count": 63,
   "metadata": {},
   "outputs": [],
   "source": [
    "#creating a column that adds up total amount of bathrooms\n",
    "train['total_baths'] = train['bsmt_full_bath'] + (train['bsmt_half_bath'] * 0.5) + train['full_bath'] + (train['half_bath'] * 0.5)"
   ]
  },
  {
   "cell_type": "code",
   "execution_count": 64,
   "metadata": {},
   "outputs": [
    {
     "data": {
      "text/html": [
       "<div>\n",
       "<style scoped>\n",
       "    .dataframe tbody tr th:only-of-type {\n",
       "        vertical-align: middle;\n",
       "    }\n",
       "\n",
       "    .dataframe tbody tr th {\n",
       "        vertical-align: top;\n",
       "    }\n",
       "\n",
       "    .dataframe thead th {\n",
       "        text-align: right;\n",
       "    }\n",
       "</style>\n",
       "<table border=\"1\" class=\"dataframe\">\n",
       "  <thead>\n",
       "    <tr style=\"text-align: right;\">\n",
       "      <th></th>\n",
       "      <th>id</th>\n",
       "      <th>pid</th>\n",
       "      <th>ms_subclass</th>\n",
       "      <th>ms_zoning</th>\n",
       "      <th>lot_frontage</th>\n",
       "      <th>lot_area</th>\n",
       "      <th>street</th>\n",
       "      <th>alley</th>\n",
       "      <th>lot_shape</th>\n",
       "      <th>land_contour</th>\n",
       "      <th>...</th>\n",
       "      <th>pool_area</th>\n",
       "      <th>pool_qc</th>\n",
       "      <th>fence</th>\n",
       "      <th>misc_feature</th>\n",
       "      <th>misc_val</th>\n",
       "      <th>mo_sold</th>\n",
       "      <th>yr_sold</th>\n",
       "      <th>sale_type</th>\n",
       "      <th>saleprice</th>\n",
       "      <th>total_baths</th>\n",
       "    </tr>\n",
       "  </thead>\n",
       "  <tbody>\n",
       "    <tr>\n",
       "      <th>0</th>\n",
       "      <td>109</td>\n",
       "      <td>533352170</td>\n",
       "      <td>60</td>\n",
       "      <td>RL</td>\n",
       "      <td>69.0552</td>\n",
       "      <td>13517</td>\n",
       "      <td>Pave</td>\n",
       "      <td>0</td>\n",
       "      <td>3</td>\n",
       "      <td>Lvl</td>\n",
       "      <td>...</td>\n",
       "      <td>0</td>\n",
       "      <td>0</td>\n",
       "      <td>0</td>\n",
       "      <td>0</td>\n",
       "      <td>0</td>\n",
       "      <td>3</td>\n",
       "      <td>2010</td>\n",
       "      <td>WD</td>\n",
       "      <td>130500</td>\n",
       "      <td>2.5</td>\n",
       "    </tr>\n",
       "    <tr>\n",
       "      <th>1</th>\n",
       "      <td>544</td>\n",
       "      <td>531379050</td>\n",
       "      <td>60</td>\n",
       "      <td>RL</td>\n",
       "      <td>43.0000</td>\n",
       "      <td>11492</td>\n",
       "      <td>Pave</td>\n",
       "      <td>0</td>\n",
       "      <td>3</td>\n",
       "      <td>Lvl</td>\n",
       "      <td>...</td>\n",
       "      <td>0</td>\n",
       "      <td>0</td>\n",
       "      <td>0</td>\n",
       "      <td>0</td>\n",
       "      <td>0</td>\n",
       "      <td>4</td>\n",
       "      <td>2009</td>\n",
       "      <td>WD</td>\n",
       "      <td>220000</td>\n",
       "      <td>3.5</td>\n",
       "    </tr>\n",
       "    <tr>\n",
       "      <th>2</th>\n",
       "      <td>153</td>\n",
       "      <td>535304180</td>\n",
       "      <td>20</td>\n",
       "      <td>RL</td>\n",
       "      <td>68.0000</td>\n",
       "      <td>7922</td>\n",
       "      <td>Pave</td>\n",
       "      <td>0</td>\n",
       "      <td>4</td>\n",
       "      <td>Lvl</td>\n",
       "      <td>...</td>\n",
       "      <td>0</td>\n",
       "      <td>0</td>\n",
       "      <td>0</td>\n",
       "      <td>0</td>\n",
       "      <td>0</td>\n",
       "      <td>1</td>\n",
       "      <td>2010</td>\n",
       "      <td>WD</td>\n",
       "      <td>109000</td>\n",
       "      <td>2.0</td>\n",
       "    </tr>\n",
       "    <tr>\n",
       "      <th>3</th>\n",
       "      <td>318</td>\n",
       "      <td>916386060</td>\n",
       "      <td>60</td>\n",
       "      <td>RL</td>\n",
       "      <td>73.0000</td>\n",
       "      <td>9802</td>\n",
       "      <td>Pave</td>\n",
       "      <td>0</td>\n",
       "      <td>4</td>\n",
       "      <td>Lvl</td>\n",
       "      <td>...</td>\n",
       "      <td>0</td>\n",
       "      <td>0</td>\n",
       "      <td>0</td>\n",
       "      <td>0</td>\n",
       "      <td>0</td>\n",
       "      <td>4</td>\n",
       "      <td>2010</td>\n",
       "      <td>WD</td>\n",
       "      <td>174000</td>\n",
       "      <td>2.5</td>\n",
       "    </tr>\n",
       "    <tr>\n",
       "      <th>4</th>\n",
       "      <td>255</td>\n",
       "      <td>906425045</td>\n",
       "      <td>50</td>\n",
       "      <td>RL</td>\n",
       "      <td>82.0000</td>\n",
       "      <td>14235</td>\n",
       "      <td>Pave</td>\n",
       "      <td>0</td>\n",
       "      <td>3</td>\n",
       "      <td>Lvl</td>\n",
       "      <td>...</td>\n",
       "      <td>0</td>\n",
       "      <td>0</td>\n",
       "      <td>0</td>\n",
       "      <td>0</td>\n",
       "      <td>0</td>\n",
       "      <td>3</td>\n",
       "      <td>2010</td>\n",
       "      <td>WD</td>\n",
       "      <td>138500</td>\n",
       "      <td>2.0</td>\n",
       "    </tr>\n",
       "  </tbody>\n",
       "</table>\n",
       "<p>5 rows × 82 columns</p>\n",
       "</div>"
      ],
      "text/plain": [
       "    id        pid  ms_subclass ms_zoning  lot_frontage  lot_area street alley  \\\n",
       "0  109  533352170           60        RL       69.0552     13517   Pave     0   \n",
       "1  544  531379050           60        RL       43.0000     11492   Pave     0   \n",
       "2  153  535304180           20        RL       68.0000      7922   Pave     0   \n",
       "3  318  916386060           60        RL       73.0000      9802   Pave     0   \n",
       "4  255  906425045           50        RL       82.0000     14235   Pave     0   \n",
       "\n",
       "   lot_shape land_contour  ...  pool_area pool_qc  fence misc_feature  \\\n",
       "0          3          Lvl  ...          0       0      0            0   \n",
       "1          3          Lvl  ...          0       0      0            0   \n",
       "2          4          Lvl  ...          0       0      0            0   \n",
       "3          4          Lvl  ...          0       0      0            0   \n",
       "4          3          Lvl  ...          0       0      0            0   \n",
       "\n",
       "  misc_val mo_sold yr_sold sale_type  saleprice  total_baths  \n",
       "0        0       3    2010       WD      130500          2.5  \n",
       "1        0       4    2009       WD      220000          3.5  \n",
       "2        0       1    2010       WD      109000          2.0  \n",
       "3        0       4    2010       WD      174000          2.5  \n",
       "4        0       3    2010       WD      138500          2.0  \n",
       "\n",
       "[5 rows x 82 columns]"
      ]
     },
     "execution_count": 64,
     "metadata": {},
     "output_type": "execute_result"
    }
   ],
   "source": [
    "train.head()"
   ]
  },
  {
   "cell_type": "code",
   "execution_count": 65,
   "metadata": {},
   "outputs": [
    {
     "data": {
      "image/png": "[encoded data removed]",
      "text/plain": [
       "<Figure size 432x288 with 1 Axes>"
      ]
     },
     "metadata": {
      "needs_background": "light"
     },
     "output_type": "display_data"
    }
   ],
   "source": [
    "sns.scatterplot(x=train['total_baths'], y=train['saleprice']);"
   ]
  },
  {
   "cell_type": "code",
   "execution_count": 66,
   "metadata": {},
   "outputs": [
    {
     "data": {
      "text/plain": [
       "ms_zoning       object\n",
       "street          object\n",
       "alley           object\n",
       "land_contour    object\n",
       "lot_config      object\n",
       "neighborhood    object\n",
       "condition_1     object\n",
       "condition_2     object\n",
       "bldg_type       object\n",
       "house_style     object\n",
       "roof_style      object\n",
       "roof_matl       object\n",
       "exterior_1st    object\n",
       "exterior_2nd    object\n",
       "mas_vnr_type    object\n",
       "foundation      object\n",
       "heating         object\n",
       "central_air     object\n",
       "garage_type     object\n",
       "fence           object\n",
       "misc_feature    object\n",
       "sale_type       object\n",
       "dtype: object"
      ]
     },
     "execution_count": 66,
     "metadata": {},
     "output_type": "execute_result"
    }
   ],
   "source": [
    "train.dtypes[train.dtypes==object]"
   ]
  },
  {
   "cell_type": "code",
   "execution_count": 67,
   "metadata": {},
   "outputs": [],
   "source": [
    "train['central_air'] = pd.get_dummies(train['central_air']) #dummying up central air since it is either yes or no"
   ]
  },
  {
   "cell_type": "code",
   "execution_count": 68,
   "metadata": {},
   "outputs": [],
   "source": [
    "train['street'] = pd.get_dummies(train['street'])"
   ]
  },
  {
   "cell_type": "code",
   "execution_count": 69,
   "metadata": {},
   "outputs": [
    {
     "data": {
      "text/plain": [
       "4    1295\n",
       "3     692\n",
       "2      55\n",
       "1       9\n",
       "Name: lot_shape, dtype: int64"
      ]
     },
     "execution_count": 69,
     "metadata": {},
     "output_type": "execute_result"
    }
   ],
   "source": [
    "train['lot_shape'].value_counts()"
   ]
  },
  {
   "cell_type": "code",
   "execution_count": 70,
   "metadata": {},
   "outputs": [
    {
     "data": {
      "image/png": "[encoded data removed]",
      "text/plain": [
       "<Figure size 432x288 with 1 Axes>"
      ]
     },
     "metadata": {
      "needs_background": "light"
     },
     "output_type": "display_data"
    }
   ],
   "source": [
    "sns.barplot(x=train['lot_shape'], y=train['saleprice']);"
   ]
  },
  {
   "cell_type": "markdown",
   "metadata": {},
   "source": [
    "Lot shape doesn't seem to have a significant impact on price so I won't be using this one."
   ]
  },
  {
   "cell_type": "code",
   "execution_count": 71,
   "metadata": {},
   "outputs": [
    {
     "data": {
      "image/png": "[encoded data removed]",
      "text/plain": [
       "<Figure size 432x288 with 1 Axes>"
      ]
     },
     "metadata": {
      "needs_background": "light"
     },
     "output_type": "display_data"
    }
   ],
   "source": [
    "sns.barplot(x=train['central_air'], y=train['saleprice']);"
   ]
  },
  {
   "cell_type": "code",
   "execution_count": 72,
   "metadata": {},
   "outputs": [
    {
     "data": {
      "text/plain": [
       "Index(['id', 'pid', 'ms_subclass', 'ms_zoning', 'lot_frontage', 'lot_area',\n",
       "       'street', 'alley', 'lot_shape', 'land_contour', 'utilities',\n",
       "       'lot_config', 'land_slope', 'neighborhood', 'condition_1',\n",
       "       'condition_2', 'bldg_type', 'house_style', 'overall_qual',\n",
       "       'overall_cond', 'year_built', 'year_remod/add', 'roof_style',\n",
       "       'roof_matl', 'exterior_1st', 'exterior_2nd', 'mas_vnr_type',\n",
       "       'mas_vnr_area', 'exter_qual', 'exter_cond', 'foundation', 'bsmt_qual',\n",
       "       'bsmt_cond', 'bsmt_exposure', 'bsmtfin_type_1', 'bsmtfin_sf_1',\n",
       "       'bsmtfin_type_2', 'bsmtfin_sf_2', 'bsmt_unf_sf', 'total_bsmt_sf',\n",
       "       'heating', 'heating_qc', 'central_air', 'electrical', '1st_flr_sf',\n",
       "       '2nd_flr_sf', 'low_qual_fin_sf', 'gr_liv_area', 'bsmt_full_bath',\n",
       "       'bsmt_half_bath', 'full_bath', 'half_bath', 'bedroom_abvgr',\n",
       "       'kitchen_abvgr', 'kitchen_qual', 'totrms_abvgrd', 'functional',\n",
       "       'fireplaces', 'fireplace_qu', 'garage_type', 'garage_yr_blt',\n",
       "       'garage_finish', 'garage_cars', 'garage_area', 'garage_qual',\n",
       "       'garage_cond', 'paved_drive', 'wood_deck_sf', 'open_porch_sf',\n",
       "       'enclosed_porch', '3ssn_porch', 'screen_porch', 'pool_area', 'pool_qc',\n",
       "       'fence', 'misc_feature', 'misc_val', 'mo_sold', 'yr_sold', 'sale_type',\n",
       "       'saleprice', 'total_baths'],\n",
       "      dtype='object')"
      ]
     },
     "execution_count": 72,
     "metadata": {},
     "output_type": "execute_result"
    }
   ],
   "source": [
    "train.columns"
   ]
  },
  {
   "cell_type": "code",
   "execution_count": 73,
   "metadata": {
    "scrolled": true
   },
   "outputs": [
    {
     "data": {
      "image/png": "[encoded data removed]",
      "text/plain": [
       "<Figure size 432x288 with 1 Axes>"
      ]
     },
     "metadata": {
      "needs_background": "light"
     },
     "output_type": "display_data"
    }
   ],
   "source": [
    "sns.barplot(x=train['mo_sold'], y=train['saleprice']);"
   ]
  },
  {
   "cell_type": "code",
   "execution_count": 74,
   "metadata": {},
   "outputs": [],
   "source": [
    "#df = pd.concat([df, pd.get_dummies(df[['neighborhood']])], axis=1)"
   ]
  },
  {
   "cell_type": "code",
   "execution_count": 75,
   "metadata": {},
   "outputs": [
    {
     "data": {
      "text/html": [
       "<div>\n",
       "<style scoped>\n",
       "    .dataframe tbody tr th:only-of-type {\n",
       "        vertical-align: middle;\n",
       "    }\n",
       "\n",
       "    .dataframe tbody tr th {\n",
       "        vertical-align: top;\n",
       "    }\n",
       "\n",
       "    .dataframe thead th {\n",
       "        text-align: right;\n",
       "    }\n",
       "</style>\n",
       "<table border=\"1\" class=\"dataframe\">\n",
       "  <thead>\n",
       "    <tr style=\"text-align: right;\">\n",
       "      <th></th>\n",
       "      <th>neighborhood</th>\n",
       "      <th>saleprice</th>\n",
       "    </tr>\n",
       "  </thead>\n",
       "  <tbody>\n",
       "    <tr>\n",
       "      <th>0</th>\n",
       "      <td>Blmngtn</td>\n",
       "      <td>200417.681818</td>\n",
       "    </tr>\n",
       "    <tr>\n",
       "      <th>1</th>\n",
       "      <td>Blueste</td>\n",
       "      <td>144566.666667</td>\n",
       "    </tr>\n",
       "    <tr>\n",
       "      <th>2</th>\n",
       "      <td>BrDale</td>\n",
       "      <td>103371.052632</td>\n",
       "    </tr>\n",
       "    <tr>\n",
       "      <th>3</th>\n",
       "      <td>BrkSide</td>\n",
       "      <td>127022.697368</td>\n",
       "    </tr>\n",
       "    <tr>\n",
       "      <th>4</th>\n",
       "      <td>ClearCr</td>\n",
       "      <td>217490.074074</td>\n",
       "    </tr>\n",
       "    <tr>\n",
       "      <th>5</th>\n",
       "      <td>CollgCr</td>\n",
       "      <td>202497.216667</td>\n",
       "    </tr>\n",
       "    <tr>\n",
       "      <th>6</th>\n",
       "      <td>Crawfor</td>\n",
       "      <td>205901.211268</td>\n",
       "    </tr>\n",
       "    <tr>\n",
       "      <th>7</th>\n",
       "      <td>Edwards</td>\n",
       "      <td>130493.468531</td>\n",
       "    </tr>\n",
       "    <tr>\n",
       "      <th>8</th>\n",
       "      <td>Gilbert</td>\n",
       "      <td>189228.387931</td>\n",
       "    </tr>\n",
       "    <tr>\n",
       "      <th>9</th>\n",
       "      <td>Greens</td>\n",
       "      <td>188666.666667</td>\n",
       "    </tr>\n",
       "    <tr>\n",
       "      <th>10</th>\n",
       "      <td>GrnHill</td>\n",
       "      <td>280000.000000</td>\n",
       "    </tr>\n",
       "    <tr>\n",
       "      <th>11</th>\n",
       "      <td>IDOTRR</td>\n",
       "      <td>101103.188406</td>\n",
       "    </tr>\n",
       "    <tr>\n",
       "      <th>12</th>\n",
       "      <td>Landmrk</td>\n",
       "      <td>137000.000000</td>\n",
       "    </tr>\n",
       "    <tr>\n",
       "      <th>13</th>\n",
       "      <td>MeadowV</td>\n",
       "      <td>100231.250000</td>\n",
       "    </tr>\n",
       "    <tr>\n",
       "      <th>14</th>\n",
       "      <td>Mitchel</td>\n",
       "      <td>167656.707317</td>\n",
       "    </tr>\n",
       "    <tr>\n",
       "      <th>15</th>\n",
       "      <td>NAmes</td>\n",
       "      <td>145905.816129</td>\n",
       "    </tr>\n",
       "    <tr>\n",
       "      <th>16</th>\n",
       "      <td>NPkVill</td>\n",
       "      <td>140476.470588</td>\n",
       "    </tr>\n",
       "    <tr>\n",
       "      <th>17</th>\n",
       "      <td>NWAmes</td>\n",
       "      <td>194619.022989</td>\n",
       "    </tr>\n",
       "    <tr>\n",
       "      <th>18</th>\n",
       "      <td>NoRidge</td>\n",
       "      <td>316294.125000</td>\n",
       "    </tr>\n",
       "    <tr>\n",
       "      <th>19</th>\n",
       "      <td>NridgHt</td>\n",
       "      <td>322831.352459</td>\n",
       "    </tr>\n",
       "    <tr>\n",
       "      <th>20</th>\n",
       "      <td>OldTown</td>\n",
       "      <td>125276.300613</td>\n",
       "    </tr>\n",
       "    <tr>\n",
       "      <th>21</th>\n",
       "      <td>SWISU</td>\n",
       "      <td>134758.875000</td>\n",
       "    </tr>\n",
       "    <tr>\n",
       "      <th>22</th>\n",
       "      <td>Sawyer</td>\n",
       "      <td>137181.909910</td>\n",
       "    </tr>\n",
       "    <tr>\n",
       "      <th>23</th>\n",
       "      <td>SawyerW</td>\n",
       "      <td>187760.160920</td>\n",
       "    </tr>\n",
       "    <tr>\n",
       "      <th>24</th>\n",
       "      <td>Somerst</td>\n",
       "      <td>227183.900000</td>\n",
       "    </tr>\n",
       "    <tr>\n",
       "      <th>25</th>\n",
       "      <td>StoneBr</td>\n",
       "      <td>329675.736842</td>\n",
       "    </tr>\n",
       "    <tr>\n",
       "      <th>26</th>\n",
       "      <td>Timber</td>\n",
       "      <td>241051.354167</td>\n",
       "    </tr>\n",
       "    <tr>\n",
       "      <th>27</th>\n",
       "      <td>Veenker</td>\n",
       "      <td>253570.588235</td>\n",
       "    </tr>\n",
       "  </tbody>\n",
       "</table>\n",
       "</div>"
      ],
      "text/plain": [
       "   neighborhood      saleprice\n",
       "0       Blmngtn  200417.681818\n",
       "1       Blueste  144566.666667\n",
       "2        BrDale  103371.052632\n",
       "3       BrkSide  127022.697368\n",
       "4       ClearCr  217490.074074\n",
       "5       CollgCr  202497.216667\n",
       "6       Crawfor  205901.211268\n",
       "7       Edwards  130493.468531\n",
       "8       Gilbert  189228.387931\n",
       "9        Greens  188666.666667\n",
       "10      GrnHill  280000.000000\n",
       "11       IDOTRR  101103.188406\n",
       "12      Landmrk  137000.000000\n",
       "13      MeadowV  100231.250000\n",
       "14      Mitchel  167656.707317\n",
       "15        NAmes  145905.816129\n",
       "16      NPkVill  140476.470588\n",
       "17       NWAmes  194619.022989\n",
       "18      NoRidge  316294.125000\n",
       "19      NridgHt  322831.352459\n",
       "20      OldTown  125276.300613\n",
       "21        SWISU  134758.875000\n",
       "22       Sawyer  137181.909910\n",
       "23      SawyerW  187760.160920\n",
       "24      Somerst  227183.900000\n",
       "25      StoneBr  329675.736842\n",
       "26       Timber  241051.354167\n",
       "27      Veenker  253570.588235"
      ]
     },
     "execution_count": 75,
     "metadata": {},
     "output_type": "execute_result"
    }
   ],
   "source": [
    "#based off code we did in class to plot the neighborhoods to see which ones are generally more expensive\n",
    "price_means_neighborhood = train.groupby('neighborhood', as_index=False)['saleprice'].mean()\n",
    "price_means_neighborhood"
   ]
  },
  {
   "cell_type": "code",
   "execution_count": 76,
   "metadata": {
    "scrolled": true
   },
   "outputs": [
    {
     "data": {
      "text/plain": [
       "array(['StoneBr', 'NridgHt', 'NoRidge', 'GrnHill', 'Veenker', 'Timber',\n",
       "       'Somerst', 'ClearCr', 'Crawfor', 'CollgCr', 'Blmngtn', 'NWAmes',\n",
       "       'Gilbert', 'Greens', 'SawyerW', 'Mitchel', 'NAmes', 'Blueste',\n",
       "       'NPkVill', 'Sawyer', 'Landmrk', 'SWISU', 'Edwards', 'BrkSide',\n",
       "       'OldTown', 'BrDale', 'IDOTRR', 'MeadowV'], dtype=object)"
      ]
     },
     "execution_count": 76,
     "metadata": {},
     "output_type": "execute_result"
    }
   ],
   "source": [
    "#based off of class to order the values from highest to lowest\n",
    "order = price_means_neighborhood.sort_values('saleprice', ascending=False)['neighborhood'].values\n",
    "order"
   ]
  },
  {
   "cell_type": "code",
   "execution_count": 77,
   "metadata": {
    "scrolled": false
   },
   "outputs": [
    {
     "data": {
      "image/png": "[encoded data removed]",
      "text/plain": [
       "<Figure size 864x576 with 1 Axes>"
      ]
     },
     "metadata": {
      "needs_background": "light"
     },
     "output_type": "display_data"
    }
   ],
   "source": [
    "plt.figure(figsize=(12,8))\n",
    "\n",
    "sns.barplot(x='neighborhood', y='saleprice', data=price_means_neighborhood, order=order);"
   ]
  },
  {
   "cell_type": "code",
   "execution_count": 78,
   "metadata": {
    "scrolled": true
   },
   "outputs": [
    {
     "data": {
      "text/plain": [
       "ms_zoning       object\n",
       "alley           object\n",
       "land_contour    object\n",
       "lot_config      object\n",
       "neighborhood    object\n",
       "condition_1     object\n",
       "condition_2     object\n",
       "bldg_type       object\n",
       "house_style     object\n",
       "roof_style      object\n",
       "roof_matl       object\n",
       "exterior_1st    object\n",
       "exterior_2nd    object\n",
       "mas_vnr_type    object\n",
       "foundation      object\n",
       "heating         object\n",
       "garage_type     object\n",
       "fence           object\n",
       "misc_feature    object\n",
       "sale_type       object\n",
       "dtype: object"
      ]
     },
     "execution_count": 78,
     "metadata": {},
     "output_type": "execute_result"
    }
   ],
   "source": [
    "train.dtypes[train.dtypes==object]"
   ]
  },
  {
   "cell_type": "code",
   "execution_count": 79,
   "metadata": {},
   "outputs": [
    {
     "data": {
      "image/png": "[encoded data removed]",
      "text/plain": [
       "<Figure size 432x288 with 1 Axes>"
      ]
     },
     "metadata": {
      "needs_background": "light"
     },
     "output_type": "display_data"
    }
   ],
   "source": [
    "sns.barplot(x=train['house_style'], y=train['saleprice']);"
   ]
  },
  {
   "cell_type": "code",
   "execution_count": null,
   "metadata": {},
   "outputs": [],
   "source": []
  },
  {
   "cell_type": "code",
   "execution_count": 108,
   "metadata": {},
   "outputs": [],
   "source": [
    "train['alley'] = train['alley'].map({'Grvl':1, 'Pave':1, 0:0})"
   ]
  },
  {
   "cell_type": "code",
   "execution_count": 120,
   "metadata": {},
   "outputs": [],
   "source": [
    "train.to_csv('./datasets/train_clean.csv')"
   ]
  },
  {
   "cell_type": "markdown",
   "metadata": {},
   "source": [
    "## Cleaning testing data"
   ]
  },
  {
   "cell_type": "code",
   "execution_count": 81,
   "metadata": {},
   "outputs": [],
   "source": [
    "test = pd.read_csv('./datasets/test.csv')"
   ]
  },
  {
   "cell_type": "code",
   "execution_count": 82,
   "metadata": {},
   "outputs": [
    {
     "data": {
      "text/plain": [
       "(878, 80)"
      ]
     },
     "execution_count": 82,
     "metadata": {},
     "output_type": "execute_result"
    }
   ],
   "source": [
    "test.shape"
   ]
  },
  {
   "cell_type": "code",
   "execution_count": 83,
   "metadata": {},
   "outputs": [
    {
     "data": {
      "text/html": [
       "<div>\n",
       "<style scoped>\n",
       "    .dataframe tbody tr th:only-of-type {\n",
       "        vertical-align: middle;\n",
       "    }\n",
       "\n",
       "    .dataframe tbody tr th {\n",
       "        vertical-align: top;\n",
       "    }\n",
       "\n",
       "    .dataframe thead th {\n",
       "        text-align: right;\n",
       "    }\n",
       "</style>\n",
       "<table border=\"1\" class=\"dataframe\">\n",
       "  <thead>\n",
       "    <tr style=\"text-align: right;\">\n",
       "      <th></th>\n",
       "      <th>Id</th>\n",
       "      <th>PID</th>\n",
       "      <th>MS SubClass</th>\n",
       "      <th>MS Zoning</th>\n",
       "      <th>Lot Frontage</th>\n",
       "      <th>Lot Area</th>\n",
       "      <th>Street</th>\n",
       "      <th>Alley</th>\n",
       "      <th>Lot Shape</th>\n",
       "      <th>Land Contour</th>\n",
       "      <th>...</th>\n",
       "      <th>3Ssn Porch</th>\n",
       "      <th>Screen Porch</th>\n",
       "      <th>Pool Area</th>\n",
       "      <th>Pool QC</th>\n",
       "      <th>Fence</th>\n",
       "      <th>Misc Feature</th>\n",
       "      <th>Misc Val</th>\n",
       "      <th>Mo Sold</th>\n",
       "      <th>Yr Sold</th>\n",
       "      <th>Sale Type</th>\n",
       "    </tr>\n",
       "  </thead>\n",
       "  <tbody>\n",
       "    <tr>\n",
       "      <th>0</th>\n",
       "      <td>2658</td>\n",
       "      <td>902301120</td>\n",
       "      <td>190</td>\n",
       "      <td>RM</td>\n",
       "      <td>69.0</td>\n",
       "      <td>9142</td>\n",
       "      <td>Pave</td>\n",
       "      <td>Grvl</td>\n",
       "      <td>Reg</td>\n",
       "      <td>Lvl</td>\n",
       "      <td>...</td>\n",
       "      <td>0</td>\n",
       "      <td>0</td>\n",
       "      <td>0</td>\n",
       "      <td>NaN</td>\n",
       "      <td>NaN</td>\n",
       "      <td>NaN</td>\n",
       "      <td>0</td>\n",
       "      <td>4</td>\n",
       "      <td>2006</td>\n",
       "      <td>WD</td>\n",
       "    </tr>\n",
       "    <tr>\n",
       "      <th>1</th>\n",
       "      <td>2718</td>\n",
       "      <td>905108090</td>\n",
       "      <td>90</td>\n",
       "      <td>RL</td>\n",
       "      <td>NaN</td>\n",
       "      <td>9662</td>\n",
       "      <td>Pave</td>\n",
       "      <td>NaN</td>\n",
       "      <td>IR1</td>\n",
       "      <td>Lvl</td>\n",
       "      <td>...</td>\n",
       "      <td>0</td>\n",
       "      <td>0</td>\n",
       "      <td>0</td>\n",
       "      <td>NaN</td>\n",
       "      <td>NaN</td>\n",
       "      <td>NaN</td>\n",
       "      <td>0</td>\n",
       "      <td>8</td>\n",
       "      <td>2006</td>\n",
       "      <td>WD</td>\n",
       "    </tr>\n",
       "    <tr>\n",
       "      <th>2</th>\n",
       "      <td>2414</td>\n",
       "      <td>528218130</td>\n",
       "      <td>60</td>\n",
       "      <td>RL</td>\n",
       "      <td>58.0</td>\n",
       "      <td>17104</td>\n",
       "      <td>Pave</td>\n",
       "      <td>NaN</td>\n",
       "      <td>IR1</td>\n",
       "      <td>Lvl</td>\n",
       "      <td>...</td>\n",
       "      <td>0</td>\n",
       "      <td>0</td>\n",
       "      <td>0</td>\n",
       "      <td>NaN</td>\n",
       "      <td>NaN</td>\n",
       "      <td>NaN</td>\n",
       "      <td>0</td>\n",
       "      <td>9</td>\n",
       "      <td>2006</td>\n",
       "      <td>New</td>\n",
       "    </tr>\n",
       "    <tr>\n",
       "      <th>3</th>\n",
       "      <td>1989</td>\n",
       "      <td>902207150</td>\n",
       "      <td>30</td>\n",
       "      <td>RM</td>\n",
       "      <td>60.0</td>\n",
       "      <td>8520</td>\n",
       "      <td>Pave</td>\n",
       "      <td>NaN</td>\n",
       "      <td>Reg</td>\n",
       "      <td>Lvl</td>\n",
       "      <td>...</td>\n",
       "      <td>0</td>\n",
       "      <td>0</td>\n",
       "      <td>0</td>\n",
       "      <td>NaN</td>\n",
       "      <td>NaN</td>\n",
       "      <td>NaN</td>\n",
       "      <td>0</td>\n",
       "      <td>7</td>\n",
       "      <td>2007</td>\n",
       "      <td>WD</td>\n",
       "    </tr>\n",
       "    <tr>\n",
       "      <th>4</th>\n",
       "      <td>625</td>\n",
       "      <td>535105100</td>\n",
       "      <td>20</td>\n",
       "      <td>RL</td>\n",
       "      <td>NaN</td>\n",
       "      <td>9500</td>\n",
       "      <td>Pave</td>\n",
       "      <td>NaN</td>\n",
       "      <td>IR1</td>\n",
       "      <td>Lvl</td>\n",
       "      <td>...</td>\n",
       "      <td>0</td>\n",
       "      <td>185</td>\n",
       "      <td>0</td>\n",
       "      <td>NaN</td>\n",
       "      <td>NaN</td>\n",
       "      <td>NaN</td>\n",
       "      <td>0</td>\n",
       "      <td>7</td>\n",
       "      <td>2009</td>\n",
       "      <td>WD</td>\n",
       "    </tr>\n",
       "  </tbody>\n",
       "</table>\n",
       "<p>5 rows × 80 columns</p>\n",
       "</div>"
      ],
      "text/plain": [
       "     Id        PID  MS SubClass MS Zoning  Lot Frontage  Lot Area Street  \\\n",
       "0  2658  902301120          190        RM          69.0      9142   Pave   \n",
       "1  2718  905108090           90        RL           NaN      9662   Pave   \n",
       "2  2414  528218130           60        RL          58.0     17104   Pave   \n",
       "3  1989  902207150           30        RM          60.0      8520   Pave   \n",
       "4   625  535105100           20        RL           NaN      9500   Pave   \n",
       "\n",
       "  Alley Lot Shape Land Contour  ... 3Ssn Porch Screen Porch Pool Area Pool QC  \\\n",
       "0  Grvl       Reg          Lvl  ...          0            0         0     NaN   \n",
       "1   NaN       IR1          Lvl  ...          0            0         0     NaN   \n",
       "2   NaN       IR1          Lvl  ...          0            0         0     NaN   \n",
       "3   NaN       Reg          Lvl  ...          0            0         0     NaN   \n",
       "4   NaN       IR1          Lvl  ...          0          185         0     NaN   \n",
       "\n",
       "  Fence Misc Feature Misc Val Mo Sold  Yr Sold  Sale Type  \n",
       "0   NaN          NaN        0       4     2006        WD   \n",
       "1   NaN          NaN        0       8     2006        WD   \n",
       "2   NaN          NaN        0       9     2006        New  \n",
       "3   NaN          NaN        0       7     2007        WD   \n",
       "4   NaN          NaN        0       7     2009        WD   \n",
       "\n",
       "[5 rows x 80 columns]"
      ]
     },
     "execution_count": 83,
     "metadata": {},
     "output_type": "execute_result"
    }
   ],
   "source": [
    "test.head()"
   ]
  },
  {
   "cell_type": "code",
   "execution_count": 84,
   "metadata": {},
   "outputs": [],
   "source": [
    "test.columns = test.columns.str.replace(' ', '_')\n",
    "test.columns = test.columns.str.lower()"
   ]
  },
  {
   "cell_type": "markdown",
   "metadata": {},
   "source": [
    "### Dealing with testing null values the same I did with training"
   ]
  },
  {
   "cell_type": "code",
   "execution_count": 85,
   "metadata": {
    "scrolled": false
   },
   "outputs": [
    {
     "data": {
      "text/plain": [
       "lot_frontage      160\n",
       "alley             820\n",
       "mas_vnr_type        1\n",
       "mas_vnr_area        1\n",
       "bsmt_qual          25\n",
       "bsmt_cond          25\n",
       "bsmt_exposure      25\n",
       "bsmtfin_type_1     25\n",
       "bsmtfin_type_2     25\n",
       "electrical          1\n",
       "fireplace_qu      422\n",
       "garage_type        44\n",
       "garage_yr_blt      45\n",
       "garage_finish      45\n",
       "garage_qual        45\n",
       "garage_cond        45\n",
       "pool_qc           874\n",
       "fence             706\n",
       "misc_feature      837\n",
       "dtype: int64"
      ]
     },
     "execution_count": 85,
     "metadata": {},
     "output_type": "execute_result"
    }
   ],
   "source": [
    "test.isnull().sum()[test.isnull().sum()!=0]"
   ]
  },
  {
   "cell_type": "code",
   "execution_count": 86,
   "metadata": {},
   "outputs": [],
   "source": [
    "cols = ['mas_vnr_type', 'mas_vnr_area', 'bsmt_qual', 'bsmt_cond', 'bsmt_exposure', \n",
    "        'fireplace_qu', 'garage_type', 'garage_qual', 'garage_cond', 'garage_finish', \n",
    "        'garage_yr_blt', 'pool_qc', 'alley', 'fence', 'misc_feature'] \n",
    "\n",
    "for col in cols:\n",
    "    test[col].fillna(0, inplace=True)"
   ]
  },
  {
   "cell_type": "code",
   "execution_count": 87,
   "metadata": {},
   "outputs": [
    {
     "data": {
      "text/plain": [
       "lot_frontage      160\n",
       "bsmtfin_type_1     25\n",
       "bsmtfin_type_2     25\n",
       "electrical          1\n",
       "dtype: int64"
      ]
     },
     "execution_count": 87,
     "metadata": {},
     "output_type": "execute_result"
    }
   ],
   "source": [
    "test.isnull().sum()[test.isnull().sum()!=0]"
   ]
  },
  {
   "cell_type": "code",
   "execution_count": 88,
   "metadata": {},
   "outputs": [],
   "source": [
    "test['lot_frontage'].fillna(test['lot_frontage'].mean(), inplace=True)"
   ]
  },
  {
   "cell_type": "code",
   "execution_count": 89,
   "metadata": {},
   "outputs": [],
   "source": [
    "for col in ['bsmtfin_type_1', 'bsmtfin_type_2']:\n",
    "    test[col] = test[col].map(num_finish)"
   ]
  },
  {
   "cell_type": "code",
   "execution_count": 90,
   "metadata": {},
   "outputs": [],
   "source": [
    "test['electrical'] = test['electrical'].map(elec_type)"
   ]
  },
  {
   "cell_type": "code",
   "execution_count": 91,
   "metadata": {},
   "outputs": [
    {
     "data": {
      "text/plain": [
       "Series([], dtype: int64)"
      ]
     },
     "execution_count": 91,
     "metadata": {},
     "output_type": "execute_result"
    }
   ],
   "source": [
    "test.isnull().sum()[test.isnull().sum() !=0]"
   ]
  },
  {
   "cell_type": "markdown",
   "metadata": {},
   "source": [
    "### Converting ordinal data to numerical"
   ]
  },
  {
   "cell_type": "code",
   "execution_count": 92,
   "metadata": {},
   "outputs": [],
   "source": [
    "for col in ['exter_qual', 'exter_cond', 'bsmt_qual', 'bsmt_cond', 'kitchen_qual', \n",
    "            'fireplace_qu', 'garage_qual', 'garage_cond', 'heating_qc', 'pool_qc']:\n",
    "    test[col] = test[col].map(qual_to_num)"
   ]
  },
  {
   "cell_type": "code",
   "execution_count": 93,
   "metadata": {},
   "outputs": [],
   "source": [
    "test['functional'] = test['functional'].map(house_func)"
   ]
  },
  {
   "cell_type": "code",
   "execution_count": 94,
   "metadata": {},
   "outputs": [],
   "source": [
    "test['utilities'] = test['utilities'].map(utilities_type)"
   ]
  },
  {
   "cell_type": "code",
   "execution_count": 95,
   "metadata": {},
   "outputs": [],
   "source": [
    "test['bsmt_exposure'] = test['bsmt_exposure'].map(base_expose)\n",
    "\n"
   ]
  },
  {
   "cell_type": "code",
   "execution_count": 96,
   "metadata": {},
   "outputs": [],
   "source": [
    "test['garage_finish'] = test['garage_finish'].map(garage_fin_num)"
   ]
  },
  {
   "cell_type": "code",
   "execution_count": 97,
   "metadata": {},
   "outputs": [],
   "source": [
    "test['paved_drive'] = test['paved_drive'].map(paved_drive)"
   ]
  },
  {
   "cell_type": "code",
   "execution_count": 98,
   "metadata": {},
   "outputs": [],
   "source": [
    "test['central_air'] = pd.get_dummies(test['central_air'])"
   ]
  },
  {
   "cell_type": "code",
   "execution_count": 99,
   "metadata": {},
   "outputs": [],
   "source": [
    "test['street'] = pd.get_dummies(test['street'])"
   ]
  },
  {
   "cell_type": "code",
   "execution_count": 100,
   "metadata": {},
   "outputs": [],
   "source": [
    "test['lot_shape'] = test['lot_shape'].map(lot_shape)"
   ]
  },
  {
   "cell_type": "code",
   "execution_count": 101,
   "metadata": {},
   "outputs": [],
   "source": [
    "test['land_slope'] = test['land_slope'].map(slope_type)"
   ]
  },
  {
   "cell_type": "code",
   "execution_count": 105,
   "metadata": {},
   "outputs": [],
   "source": [
    "test['alley'] = test['alley'].map({'Grvl':1, 'Pave':1, 0:0})"
   ]
  },
  {
   "cell_type": "code",
   "execution_count": 113,
   "metadata": {},
   "outputs": [],
   "source": [
    "test['fence'] = test['fence'].map(fence_num)"
   ]
  },
  {
   "cell_type": "code",
   "execution_count": 117,
   "metadata": {},
   "outputs": [],
   "source": [
    "test['total_baths'] = test['bsmt_full_bath'] + (test['bsmt_half_bath'] * 0.5) + test['full_bath'] + (test['half_bath'] * 0.5)\n",
    "\n",
    "\n"
   ]
  },
  {
   "cell_type": "code",
   "execution_count": 118,
   "metadata": {
    "scrolled": true
   },
   "outputs": [
    {
     "data": {
      "text/html": [
       "<div>\n",
       "<style scoped>\n",
       "    .dataframe tbody tr th:only-of-type {\n",
       "        vertical-align: middle;\n",
       "    }\n",
       "\n",
       "    .dataframe tbody tr th {\n",
       "        vertical-align: top;\n",
       "    }\n",
       "\n",
       "    .dataframe thead th {\n",
       "        text-align: right;\n",
       "    }\n",
       "</style>\n",
       "<table border=\"1\" class=\"dataframe\">\n",
       "  <thead>\n",
       "    <tr style=\"text-align: right;\">\n",
       "      <th></th>\n",
       "      <th>id</th>\n",
       "      <th>pid</th>\n",
       "      <th>ms_subclass</th>\n",
       "      <th>ms_zoning</th>\n",
       "      <th>lot_frontage</th>\n",
       "      <th>lot_area</th>\n",
       "      <th>street</th>\n",
       "      <th>alley</th>\n",
       "      <th>lot_shape</th>\n",
       "      <th>land_contour</th>\n",
       "      <th>...</th>\n",
       "      <th>screen_porch</th>\n",
       "      <th>pool_area</th>\n",
       "      <th>pool_qc</th>\n",
       "      <th>fence</th>\n",
       "      <th>misc_feature</th>\n",
       "      <th>misc_val</th>\n",
       "      <th>mo_sold</th>\n",
       "      <th>yr_sold</th>\n",
       "      <th>sale_type</th>\n",
       "      <th>total_baths</th>\n",
       "    </tr>\n",
       "  </thead>\n",
       "  <tbody>\n",
       "    <tr>\n",
       "      <th>0</th>\n",
       "      <td>2658</td>\n",
       "      <td>902301120</td>\n",
       "      <td>190</td>\n",
       "      <td>RM</td>\n",
       "      <td>69.000000</td>\n",
       "      <td>9142</td>\n",
       "      <td>0</td>\n",
       "      <td>1</td>\n",
       "      <td>4</td>\n",
       "      <td>Lvl</td>\n",
       "      <td>...</td>\n",
       "      <td>0</td>\n",
       "      <td>0</td>\n",
       "      <td>0</td>\n",
       "      <td>0</td>\n",
       "      <td>0</td>\n",
       "      <td>0</td>\n",
       "      <td>4</td>\n",
       "      <td>2006</td>\n",
       "      <td>WD</td>\n",
       "      <td>2.0</td>\n",
       "    </tr>\n",
       "    <tr>\n",
       "      <th>1</th>\n",
       "      <td>2718</td>\n",
       "      <td>905108090</td>\n",
       "      <td>90</td>\n",
       "      <td>RL</td>\n",
       "      <td>69.545961</td>\n",
       "      <td>9662</td>\n",
       "      <td>0</td>\n",
       "      <td>0</td>\n",
       "      <td>3</td>\n",
       "      <td>Lvl</td>\n",
       "      <td>...</td>\n",
       "      <td>0</td>\n",
       "      <td>0</td>\n",
       "      <td>0</td>\n",
       "      <td>0</td>\n",
       "      <td>0</td>\n",
       "      <td>0</td>\n",
       "      <td>8</td>\n",
       "      <td>2006</td>\n",
       "      <td>WD</td>\n",
       "      <td>2.0</td>\n",
       "    </tr>\n",
       "    <tr>\n",
       "      <th>2</th>\n",
       "      <td>2414</td>\n",
       "      <td>528218130</td>\n",
       "      <td>60</td>\n",
       "      <td>RL</td>\n",
       "      <td>58.000000</td>\n",
       "      <td>17104</td>\n",
       "      <td>0</td>\n",
       "      <td>0</td>\n",
       "      <td>3</td>\n",
       "      <td>Lvl</td>\n",
       "      <td>...</td>\n",
       "      <td>0</td>\n",
       "      <td>0</td>\n",
       "      <td>0</td>\n",
       "      <td>0</td>\n",
       "      <td>0</td>\n",
       "      <td>0</td>\n",
       "      <td>9</td>\n",
       "      <td>2006</td>\n",
       "      <td>New</td>\n",
       "      <td>3.5</td>\n",
       "    </tr>\n",
       "    <tr>\n",
       "      <th>3</th>\n",
       "      <td>1989</td>\n",
       "      <td>902207150</td>\n",
       "      <td>30</td>\n",
       "      <td>RM</td>\n",
       "      <td>60.000000</td>\n",
       "      <td>8520</td>\n",
       "      <td>0</td>\n",
       "      <td>0</td>\n",
       "      <td>4</td>\n",
       "      <td>Lvl</td>\n",
       "      <td>...</td>\n",
       "      <td>0</td>\n",
       "      <td>0</td>\n",
       "      <td>0</td>\n",
       "      <td>0</td>\n",
       "      <td>0</td>\n",
       "      <td>0</td>\n",
       "      <td>7</td>\n",
       "      <td>2007</td>\n",
       "      <td>WD</td>\n",
       "      <td>1.0</td>\n",
       "    </tr>\n",
       "    <tr>\n",
       "      <th>4</th>\n",
       "      <td>625</td>\n",
       "      <td>535105100</td>\n",
       "      <td>20</td>\n",
       "      <td>RL</td>\n",
       "      <td>69.545961</td>\n",
       "      <td>9500</td>\n",
       "      <td>0</td>\n",
       "      <td>0</td>\n",
       "      <td>3</td>\n",
       "      <td>Lvl</td>\n",
       "      <td>...</td>\n",
       "      <td>185</td>\n",
       "      <td>0</td>\n",
       "      <td>0</td>\n",
       "      <td>0</td>\n",
       "      <td>0</td>\n",
       "      <td>0</td>\n",
       "      <td>7</td>\n",
       "      <td>2009</td>\n",
       "      <td>WD</td>\n",
       "      <td>2.5</td>\n",
       "    </tr>\n",
       "  </tbody>\n",
       "</table>\n",
       "<p>5 rows × 81 columns</p>\n",
       "</div>"
      ],
      "text/plain": [
       "     id        pid  ms_subclass ms_zoning  lot_frontage  lot_area  street  \\\n",
       "0  2658  902301120          190        RM     69.000000      9142       0   \n",
       "1  2718  905108090           90        RL     69.545961      9662       0   \n",
       "2  2414  528218130           60        RL     58.000000     17104       0   \n",
       "3  1989  902207150           30        RM     60.000000      8520       0   \n",
       "4   625  535105100           20        RL     69.545961      9500       0   \n",
       "\n",
       "   alley  lot_shape land_contour  ...  screen_porch pool_area  pool_qc fence  \\\n",
       "0      1          4          Lvl  ...             0         0        0     0   \n",
       "1      0          3          Lvl  ...             0         0        0     0   \n",
       "2      0          3          Lvl  ...             0         0        0     0   \n",
       "3      0          4          Lvl  ...             0         0        0     0   \n",
       "4      0          3          Lvl  ...           185         0        0     0   \n",
       "\n",
       "  misc_feature misc_val mo_sold yr_sold  sale_type  total_baths  \n",
       "0            0        0       4    2006        WD           2.0  \n",
       "1            0        0       8    2006        WD           2.0  \n",
       "2            0        0       9    2006        New          3.5  \n",
       "3            0        0       7    2007        WD           1.0  \n",
       "4            0        0       7    2009        WD           2.5  \n",
       "\n",
       "[5 rows x 81 columns]"
      ]
     },
     "execution_count": 118,
     "metadata": {},
     "output_type": "execute_result"
    }
   ],
   "source": [
    "test.head()"
   ]
  },
  {
   "cell_type": "code",
   "execution_count": 119,
   "metadata": {},
   "outputs": [],
   "source": [
    "test.to_csv('./datasets/test_clean.csv')"
   ]
  },
  {
   "cell_type": "code",
   "execution_count": null,
   "metadata": {},
   "outputs": [],
   "source": []
  }
 ],
 "metadata": {
  "kernelspec": {
   "display_name": "Python 3",
   "language": "python",
   "name": "python3"
  },
  "language_info": {
   "codemirror_mode": {
    "name": "ipython",
    "version": 3
   },
   "file_extension": ".py",
   "mimetype": "text/x-python",
   "name": "python",
   "nbconvert_exporter": "python",
   "pygments_lexer": "ipython3",
   "version": "3.8.3"
  }
 },
 "nbformat": 4,
 "nbformat_minor": 4
}
